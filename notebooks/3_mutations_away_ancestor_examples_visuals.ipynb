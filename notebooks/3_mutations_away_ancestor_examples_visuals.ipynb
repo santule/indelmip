{
 "cells": [
  {
   "cell_type": "code",
   "execution_count": 1,
   "id": "5b567b2f",
   "metadata": {},
   "outputs": [],
   "source": [
    "from ete3 import Tree\n",
    "from pysam import FastaFile,FastxFile\n",
    "import sys\n",
    "import getopt\n",
    "from operator import add\n",
    "from pyvis.network import Network\n",
    "import matplotlib.pyplot as plt"
   ]
  },
  {
   "cell_type": "code",
   "execution_count": 2,
   "id": "3eb8e493",
   "metadata": {},
   "outputs": [],
   "source": [
    "''' function to calculate the total indel events at each node of the tree'''\n",
    "def count_mutations(p,n,c1,c2):\n",
    "    i3 = 0\n",
    "    for i in range(0,len(n)):\n",
    "        if n[i] != p[i] and n[i] != c1[i] and n[i] != c2[i]:\n",
    "            i3 += 1\n",
    "\n",
    "    if i3 > 0:\n",
    "        return 1\n",
    "    else:\n",
    "        return 0\n",
    "\n",
    "def find_3_mutation_away_pos(n,c1,c2,p):\n",
    "    poss = []\n",
    "    i3 = 0\n",
    "    for i in range(0,len(n)):\n",
    "        if n[i] != p[i] and n[i] != c1[i] and n[i] != c2[i]:\n",
    "            poss.append(i)\n",
    "            i3 += 1\n",
    "    print(f\"position {poss}\")\n",
    "    \n",
    "def count_indel_events(tree,indelfastafile):\n",
    "\n",
    "    total_ancestors = 0\n",
    "    total_i3_mut = 0\n",
    "    extra_info = []\n",
    "\n",
    "    # traverse tree\n",
    "    indel_pattern = FastaFile(indelfastafile)\n",
    "\n",
    "    for n in tree.traverse():\n",
    "        if n.is_leaf() == False:\n",
    "            total_ancestors += 1\n",
    "            current_node = n.name\n",
    "            current_node_sequence = indel_pattern.fetch(current_node)\n",
    "            child_seq_1 = indel_pattern.fetch(n.children[0].name)\n",
    "            child_seq_2 = indel_pattern.fetch(n.children[1].name)\n",
    "\n",
    "            if n.is_root() == False: # if root then parent sequence same as the root\n",
    "                parent_node  = n.up.name\n",
    "                parent_node_sequence = indel_pattern.fetch(parent_node)\n",
    "            else:\n",
    "                parent_node_sequence = current_node_sequence\n",
    "\n",
    "            i3_mutations  = count_mutations(parent_node_sequence,current_node_sequence,child_seq_1,child_seq_2)\n",
    "            if i3_mutations > 0:\n",
    "                print(f\"node name {n.name}\")\n",
    "                extra_info.append([n.name,n.children[0].name,n.children[1].name,n.up.name])\n",
    "                find_3_mutation_away_pos(current_node_sequence,child_seq_1,child_seq_2,parent_node_sequence)\n",
    "            total_i3_mut +=  i3_mutations\n",
    "                \n",
    "    return total_i3_mut , round((total_i3_mut / total_ancestors)* 100,2),extra_info\n",
    "\n",
    "\n",
    "def network_plot(highlight_node,highlight_node_label,other_nodes,other_nodes_color,other_nodes_label,all_edges):\n",
    "    net = Network(\n",
    "        notebook=True, directed=True,bgcolor = \"white\", font_color = \"black\",cdn_resources = 'in_line' ,\n",
    "        height = \"1000px\",          # height of chart\n",
    "        width = \"100%\",             # fill the entire width   \n",
    "    )\n",
    "\n",
    "    # all nodes\n",
    "    net.add_nodes(other_nodes,color=other_nodes_color,label=other_nodes_label)\n",
    "\n",
    "    # highlighted node\n",
    "    net.add_node(highlight_node,color=\"red\",label=highlight_node_label)\n",
    "\n",
    "    # all other edges\n",
    "    net.add_edges(all_edges)\n",
    "\n",
    "    net.repulsion(\n",
    "        node_distance=100,\n",
    "        central_gravity=0.2,\n",
    "        spring_length=200,\n",
    "        spring_strength=0.05,\n",
    "        damping=0.01,\n",
    "    )\n",
    "    return net\n",
    "\n",
    "def get_mini_tree(highlight_node,tree):\n",
    "    ## traverse down\n",
    "    for n in tree.traverse():\n",
    "        n.add_feature('mtree',0)\n",
    "\n",
    "    i = 1\n",
    "    all_edges   = []\n",
    "    for n in tree.traverse():\n",
    "        if n.is_leaf() == False and n.is_root() == False:\n",
    "            if n.name == highlight_node or n.up.mtree > 0:\n",
    "                n.add_feature('mtree',i)\n",
    "                all_edges.append((n.name,n.children[0].name,i))\n",
    "                all_edges.append((n.name,n.children[1].name,i))\n",
    "                i = i + 1\n",
    "                if i == 5:\n",
    "                    break\n",
    "\n",
    "    ## traverse up\n",
    "    for n in tree.traverse():\n",
    "        n.add_feature('mtree',0)\n",
    "\n",
    "    i = 1 \n",
    "    for n in tree.traverse('postorder'):\n",
    "        if n.is_leaf() == False and n.is_root() == False:\n",
    "            if n.name == highlight_node or n.children[0].mtree > 0 or n.children[1].mtree > 0:\n",
    "                n.add_feature('mtree',i)\n",
    "                all_edges.append((n.up.name,n.name))\n",
    "                i = i + 1\n",
    "                if i == 5:\n",
    "                    break\n",
    "                \n",
    "    # nodes\n",
    "    other_nodes = []\n",
    "    for e in all_edges:\n",
    "        other_nodes.append(e[0])\n",
    "        other_nodes.append(e[1])\n",
    "    other_nodes = list(set(other_nodes))\n",
    "    other_nodes.remove(highlight_node)\n",
    "    \n",
    "    return other_nodes,all_edges"
   ]
  },
  {
   "cell_type": "markdown",
   "id": "96e774df",
   "metadata": {},
   "source": [
    "### GENERAL"
   ]
  },
  {
   "cell_type": "code",
   "execution_count": 3,
   "id": "e6c23650",
   "metadata": {},
   "outputs": [],
   "source": [
    "folder_location         = '/Users/sanjanatule/Documents/uq/Projects/Indels/indelmip/data/'\n",
    "tree_name               = 'MBL_624'\n",
    "nwk_file_path           = folder_location + tree_name + '/MBL_624_ancestors.nwk'\n",
    "\n",
    "# load the tree\n",
    "tree_file = open(nwk_file_path,\"r\")\n",
    "my_tree = tree_file.read() + \";\"\n",
    "tree = Tree(my_tree, format=1)"
   ]
  },
  {
   "cell_type": "markdown",
   "id": "e2ab0b4e",
   "metadata": {},
   "source": [
    "### MIP"
   ]
  },
  {
   "cell_type": "code",
   "execution_count": 4,
   "id": "d0e65655",
   "metadata": {},
   "outputs": [
    {
     "name": "stdout",
     "output_type": "stream",
     "text": [
      "node name N477\n",
      "position [1497]\n"
     ]
    },
    {
     "data": {
      "text/plain": [
       "(1,\n",
       " 0.16,\n",
       " [['N477',\n",
       "   'tr|A0A0G4J057|A0A0G4J057_PLABS',\n",
       "   'tr|M2W3R7|M2W3R7_GALSU',\n",
       "   'N433']])"
      ]
     },
     "execution_count": 4,
     "metadata": {},
     "output_type": "execute_result"
    }
   ],
   "source": [
    "# MIP\n",
    "indel_fasta_solution_file          = folder_location + tree_name + '/mip_ancestor_indel.fasta'  # indels from MIP\n",
    "indel_pattern        = FastaFile(indel_fasta_solution_file)\n",
    "count_indel_events(tree,indel_fasta_solution_file)"
   ]
  },
  {
   "cell_type": "code",
   "execution_count": 5,
   "id": "959cff58",
   "metadata": {},
   "outputs": [
    {
     "name": "stdout",
     "output_type": "stream",
     "text": [
      "MIP_MBL_624.html\n"
     ]
    },
    {
     "data": {
      "text/html": [
       "\n",
       "        <iframe\n",
       "            width=\"100%\"\n",
       "            height=\"1000px\"\n",
       "            src=\"MIP_MBL_624.html\"\n",
       "            frameborder=\"0\"\n",
       "            allowfullscreen\n",
       "            \n",
       "        ></iframe>\n",
       "        "
      ],
      "text/plain": [
       "<IPython.lib.display.IFrame at 0x7fbe292ba820>"
      ]
     },
     "execution_count": 5,
     "metadata": {},
     "output_type": "execute_result"
    }
   ],
   "source": [
    "highlight_node = 'N477'\n",
    "start_pos,end_pos = 1494,1498\n",
    "\n",
    "# create mini tree\n",
    "other_nodes,all_edges = get_mini_tree(highlight_node,tree)\n",
    "\n",
    "# labels and colors\n",
    "other_nodes_label = [ i + '    ' + indel_pattern[i][start_pos:end_pos] for i in other_nodes]\n",
    "other_nodes_color = ['lightgrey' for i in other_nodes]\n",
    "highlight_node_label = highlight_node + '    ' + indel_pattern[highlight_node][start_pos:end_pos]\n",
    "\n",
    "# plot\n",
    "net = network_plot(highlight_node,highlight_node_label,other_nodes,other_nodes_color,other_nodes_label,all_edges)\n",
    "\n",
    "net.show('MIP_MBL_624.html')"
   ]
  },
  {
   "cell_type": "markdown",
   "id": "84bd17fd",
   "metadata": {},
   "source": [
    "### PSP"
   ]
  },
  {
   "cell_type": "code",
   "execution_count": 6,
   "id": "db3b35d5",
   "metadata": {},
   "outputs": [
    {
     "name": "stdout",
     "output_type": "stream",
     "text": [
      "node name N389\n",
      "position [347, 348, 349, 350, 2755]\n",
      "node name N93\n",
      "position [3789]\n",
      "node name N94\n",
      "position [3789]\n",
      "node name N376\n",
      "position [2245, 2246]\n",
      "node name N320\n",
      "position [5001]\n",
      "node name N336\n",
      "position [2841, 2842]\n",
      "node name N368\n",
      "position [2841, 2842]\n",
      "node name N99\n",
      "position [2729]\n",
      "node name N204\n",
      "position [2880]\n",
      "node name N195\n",
      "position [2729, 2730]\n",
      "node name N243\n",
      "position [3677]\n",
      "node name N287\n",
      "position [2247, 2248]\n",
      "node name N119\n",
      "position [1168]\n",
      "node name N212\n",
      "position [3697]\n",
      "node name N149\n",
      "position [1168]\n"
     ]
    },
    {
     "data": {
      "text/plain": [
       "(15,\n",
       " 2.41,\n",
       " [['N389', 'N390', 'N392', 'N91'],\n",
       "  ['N93', 'N94', 'N373', 'N92'],\n",
       "  ['N94', 'N95', 'N319', 'N93'],\n",
       "  ['N376', 'N377', 'N386', 'N375'],\n",
       "  ['N320', 'N321', 'N336', 'N319'],\n",
       "  ['N336', 'N337', 'N368', 'N320'],\n",
       "  ['N368', 'N369', 'N371', 'N336'],\n",
       "  ['N99', 'N100', 'tr|A0A1U7LSY1|A0A1U7LSY1_NEOID', 'N98'],\n",
       "  ['N204', 'N205', 'N246', 'N203'],\n",
       "  ['N195', 'N196', 'tr|A0A0L0HHK0|A0A0L0HHK0_SPIPD', 'N181'],\n",
       "  ['N243', 'tr|A0A067M497|A0A067M497_9AGAM', 'N244', 'N206'],\n",
       "  ['N287', 'N288', 'tr|F2U181|F2U181_SALR5', 'N286'],\n",
       "  ['N119', 'N120', 'N149', 'N118'],\n",
       "  ['N212', 'N213', 'tr|A0A0C3S5J6|A0A0C3S5J6_PHLGI', 'N211'],\n",
       "  ['N149', 'N150', 'tr|W3X335|W3X335_PESFW', 'N119']])"
      ]
     },
     "execution_count": 6,
     "metadata": {},
     "output_type": "execute_result"
    }
   ],
   "source": [
    "# PSP\n",
    "indel_fasta_solution_file     = folder_location + tree_name + '/psp_grasp_all_indel.fasta' # indels from grasp\n",
    "indel_pattern        = FastaFile(indel_fasta_solution_file)\n",
    "count_indel_events(tree,indel_fasta_solution_file)"
   ]
  },
  {
   "cell_type": "code",
   "execution_count": 7,
   "id": "71cf2957",
   "metadata": {},
   "outputs": [
    {
     "name": "stdout",
     "output_type": "stream",
     "text": [
      "PSP_MBL_624.html\n"
     ]
    },
    {
     "data": {
      "text/html": [
       "\n",
       "        <iframe\n",
       "            width=\"100%\"\n",
       "            height=\"1000px\"\n",
       "            src=\"PSP_MBL_624.html\"\n",
       "            frameborder=\"0\"\n",
       "            allowfullscreen\n",
       "            \n",
       "        ></iframe>\n",
       "        "
      ],
      "text/plain": [
       "<IPython.lib.display.IFrame at 0x7fbe292b4c40>"
      ]
     },
     "execution_count": 7,
     "metadata": {},
     "output_type": "execute_result"
    }
   ],
   "source": [
    "highlight_node = 'N389'\n",
    "start_pos,end_pos    = 346,351\n",
    "\n",
    "# create mini tree\n",
    "other_nodes,all_edges = get_mini_tree(highlight_node,tree)\n",
    "\n",
    "# labels and colors\n",
    "other_nodes_label = [ i + '    ' + indel_pattern[i][start_pos:end_pos] for i in other_nodes]\n",
    "other_nodes_color = ['lightgrey' for i in other_nodes]\n",
    "highlight_node_label = highlight_node + '    ' + indel_pattern[highlight_node][start_pos:end_pos]\n",
    "\n",
    "# plot\n",
    "net = network_plot(highlight_node,highlight_node_label,other_nodes,other_nodes_color,other_nodes_label,all_edges)\n",
    "net.show('PSP_MBL_624.html') # 4 positions - 347, 348, 349, 350 in N389"
   ]
  },
  {
   "cell_type": "markdown",
   "id": "6d8d3470",
   "metadata": {},
   "source": [
    "### SICP"
   ]
  },
  {
   "cell_type": "code",
   "execution_count": 10,
   "id": "e8b3c2d5",
   "metadata": {},
   "outputs": [
    {
     "name": "stdout",
     "output_type": "stream",
     "text": [
      "node name N91\n",
      "position [3610]\n",
      "node name N92\n",
      "position [2818, 2819, 2820, 2821, 2822, 2825]\n",
      "node name N588\n",
      "position [3602, 3603, 3604, 3605, 3606, 3607, 3608, 3609, 3610, 3611, 3612, 3613, 3614, 3615, 3616, 3617, 3618, 3619, 3620, 3621, 3622, 3623, 3624, 3625, 3627, 3629, 3631, 3632, 3633, 3634, 3635, 3637, 3638, 3639, 3640, 3645, 3646, 3647, 3648, 3649, 3650, 3651, 3652, 3653, 3654, 3655, 3656, 3657, 3666, 3667, 3668, 3669, 3670, 3671, 3672, 3673, 3674, 3675, 3676, 3677, 3678, 3679, 3680, 3681, 3682, 3683, 3684, 3685, 3730, 3731, 3732, 3733, 3734, 3735, 3736, 3737, 3738, 3739, 3740, 3741, 3768, 3770, 3771, 3772, 3789, 3791]\n",
      "node name N84\n",
      "position [34, 35, 369, 389, 754, 755, 2011, 2012, 2017, 2018, 2056, 2146, 2147, 2939, 2972, 2973, 2993]\n",
      "node name N373\n",
      "position [1191, 1192]\n",
      "node name N312\n",
      "position [1973]\n",
      "node name N395\n",
      "position [3865, 3866, 3867]\n",
      "node name N407\n",
      "position [3399, 3400, 3401, 3402, 3403, 3404, 3408, 3409, 3410, 3411, 3412, 3413, 3414, 3415, 3416, 3417, 3418, 3422, 3423, 3424, 3425, 3426, 3427]\n",
      "node name N202\n",
      "position [2589, 2590, 2609, 2610, 2611, 2612, 2613]\n",
      "node name N251\n",
      "position [3500]\n",
      "node name N467\n",
      "position [4576, 4577, 4578, 4579, 4580, 4587, 4588, 4589, 4590, 4591, 4592, 4593]\n",
      "node name N177\n",
      "position [298, 299, 300, 301, 302, 303, 304, 305, 306, 307]\n",
      "node name N249\n",
      "position [2663, 2664, 2665]\n",
      "node name N106\n",
      "position [4540]\n",
      "node name N110\n",
      "position [3658, 3666, 3667, 3668, 3669]\n",
      "node name N143\n",
      "position [219]\n",
      "node name N217\n",
      "position [4552, 4553, 4555, 4572, 4610, 4611]\n"
     ]
    },
    {
     "data": {
      "text/plain": [
       "(17,\n",
       " 2.73,\n",
       " [['N91', 'N92', 'N389', 'N81'],\n",
       "  ['N92', 'N93', 'N374', 'N91'],\n",
       "  ['N588', 'tr|A0A1F1SHB6|A0A1F1SHB6_9NEIS', 'N589', 'N587'],\n",
       "  ['N84', 'N85', 'N87', 'N83'],\n",
       "  ['N373',\n",
       "   'tr|A0A1X7V715|A0A1X7V715_AMPQE',\n",
       "   'tr|A0A6P8Z0R5|A0A6P8Z0R5_THRPL',\n",
       "   'N93'],\n",
       "  ['N312', 'N313', 'N316', 'N95'],\n",
       "  ['N395', 'tr|A0A0B2UJL3|A0A0B2UJL3_9MICR', 'tr|Q8SVD6|Q8SVD6_ENCCU', 'N394'],\n",
       "  ['N407', 'N408', 'N421', 'N406'],\n",
       "  ['N202', 'N203', 'N256', 'N97'],\n",
       "  ['N251', 'N252', 'N255', 'N250'],\n",
       "  ['N467', 'N468', 'tr|A0A2N1NYS1|A0A2N1NYS1_9GLOM', 'N438'],\n",
       "  ['N177', 'N178', 'N179', 'N174'],\n",
       "  ['N249',\n",
       "   'tr|A0A316VAN0|A0A316VAN0_9BASI',\n",
       "   'tr|A0A316Z1F6|A0A316Z1F6_9BASI',\n",
       "   'N246'],\n",
       "  ['N106', 'N107', 'tr|F2QUU4|F2QUU4_KOMPC', 'N105'],\n",
       "  ['N110', 'tr|A0A0J9XI61|A0A0J9XI61_GEOCN', 'N111', 'N109'],\n",
       "  ['N143', 'N144', 'tr|A0A6P8ARP7|A0A6P8ARP7_MAGGR', 'N121'],\n",
       "  ['N217', 'N218', 'tr|J4G319|J4G319_9APHY', 'N216']])"
      ]
     },
     "execution_count": 10,
     "metadata": {},
     "output_type": "execute_result"
    }
   ],
   "source": [
    "# SICP\n",
    "indel_fasta_solution_file     = folder_location + tree_name + '/sicp_grasp_all_indel.fasta' # indels from grasp\n",
    "indel_pattern        = FastaFile(indel_fasta_solution_file)\n",
    "count_indel_events(tree,indel_fasta_solution_file)"
   ]
  },
  {
   "cell_type": "code",
   "execution_count": 11,
   "id": "b82915b2",
   "metadata": {},
   "outputs": [
    {
     "name": "stdout",
     "output_type": "stream",
     "text": [
      "MIP_MBL_624.html\n"
     ]
    },
    {
     "data": {
      "text/html": [
       "\n",
       "        <iframe\n",
       "            width=\"100%\"\n",
       "            height=\"1000px\"\n",
       "            src=\"MIP_MBL_624.html\"\n",
       "            frameborder=\"0\"\n",
       "            allowfullscreen\n",
       "            \n",
       "        ></iframe>\n",
       "        "
      ],
      "text/plain": [
       "<IPython.lib.display.IFrame at 0x7fbe2920c820>"
      ]
     },
     "execution_count": 11,
     "metadata": {},
     "output_type": "execute_result"
    }
   ],
   "source": [
    "highlight_node = 'N588'\n",
    "start_pos,end_pos = 3602,3626\n",
    "\n",
    "\n",
    "# create mini tree\n",
    "other_nodes,all_edges = get_mini_tree(highlight_node,tree)\n",
    "\n",
    "# labels and colors\n",
    "other_nodes_label = [ i + '    ' + indel_pattern[i][start_pos:end_pos] for i in other_nodes]\n",
    "other_nodes_color = ['lightgrey' for i in other_nodes]\n",
    "highlight_node_label = highlight_node + '    ' + indel_pattern[highlight_node][start_pos:end_pos]\n",
    "\n",
    "# plot\n",
    "net = network_plot(highlight_node,highlight_node_label,other_nodes,other_nodes_color,other_nodes_label,all_edges)\n",
    "\n",
    "net.show('MIP_MBL_624.html')"
   ]
  },
  {
   "cell_type": "code",
   "execution_count": null,
   "id": "4b8e0e96",
   "metadata": {},
   "outputs": [],
   "source": []
  }
 ],
 "metadata": {
  "kernelspec": {
   "display_name": "Python 3 (ipykernel)",
   "language": "python",
   "name": "python3"
  },
  "language_info": {
   "codemirror_mode": {
    "name": "ipython",
    "version": 3
   },
   "file_extension": ".py",
   "mimetype": "text/x-python",
   "name": "python",
   "nbconvert_exporter": "python",
   "pygments_lexer": "ipython3",
   "version": "3.9.7"
  }
 },
 "nbformat": 4,
 "nbformat_minor": 5
}
