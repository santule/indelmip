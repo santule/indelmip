{
 "cells": [
  {
   "cell_type": "code",
   "execution_count": 1,
   "id": "6f83f4b7",
   "metadata": {},
   "outputs": [],
   "source": [
    "from pysam import FastaFile,FastxFile\n",
    "from ete3 import Tree\n",
    "import csv"
   ]
  },
  {
   "cell_type": "code",
   "execution_count": 2,
   "id": "811ac596",
   "metadata": {},
   "outputs": [],
   "source": [
    "folder = '/Users/sanjanatule/Documents/uq/Projects/Indels/indelmip/data/real/MBL_243/'\n",
    "nwk_file_path = folder + '/psp_ancestors.nwk'\n",
    "sol1 = '/Users/sanjanatule/Documents/uq/Projects/Indels/indelmip/data/real/MBL_243/mip_ancestor_indel.fasta'\n",
    "sol2 = '/Users/sanjanatule/Documents/uq/Projects/Indels/indelmip/data/real_mip_altopt/MBL_243/mip_ancestor_indel.fasta'\n",
    "annotation_file = '/Users/sanjanatule/Documents/uq/Projects/Indels/indelmip/plots_for_paper/MBL_243_annot.csv'"
   ]
  },
  {
   "cell_type": "code",
   "execution_count": 3,
   "id": "fb632268",
   "metadata": {},
   "outputs": [
    {
     "name": "stdout",
     "output_type": "stream",
     "text": [
      "Total ancestors different 70\n",
      "Total ancestors same 172\n",
      "Ancestor names are ['N0', 'N1', 'N233', 'N2', 'N240', 'N3', 'N60', 'N52', 'N62', 'N29', 'N58', 'N146', 'N238', 'N30', 'N45', 'N59', 'N147', 'N212', 'N239', 'N7', 'N46', 'N191', 'N213', 'N8', 'N66', 'N149', 'N211', 'N9', 'N15', 'N96', 'N150', 'N152', 'N193', 'N77', 'N151', 'N153', 'N194', 'N196', 'N11', 'N90', 'N154', 'N195', 'N209', 'N14', 'N119', 'N210', 'N94', 'N123', 'N95', 'N202', 'N185', 'N203', 'N186', 'N187', 'N173', 'N177', 'N188', 'N164', 'N169', 'N174', 'N178', 'N165', 'N170', 'N179', 'N166', 'N167', 'N180', 'N181', 'N182', 'N183']\n"
     ]
    }
   ],
   "source": [
    "tree_file = open(nwk_file_path,\"r\")\n",
    "my_tree = tree_file.read() + \";\"\n",
    "tree = Tree(my_tree, format=1)\n",
    "sol1_out = FastaFile(sol1)\n",
    "sol2_out = FastaFile(sol2)\n",
    "\n",
    "total_diff = 0\n",
    "ancestors_diff  = []\n",
    "ancestors_annot = []\n",
    "\n",
    "for n in tree.traverse(): # level order\n",
    "    if not n.is_leaf():\n",
    "        m_parent_sequence_1 = sol1_out.fetch(n.name)\n",
    "        m_parent_sequence_2 = sol2_out.fetch(n.name)\n",
    "        \n",
    "        if m_parent_sequence_1 != m_parent_sequence_2:\n",
    "            total_diff += 1\n",
    "            ancestors_diff.append(n.name)\n",
    "            ancestors_annot.append([n.name,'*'])\n",
    "            \n",
    "print(f\"Total ancestors different {total_diff}\")\n",
    "print(f\"Total ancestors same {242 - total_diff}\")\n",
    "print(f\"Ancestor names are {ancestors_diff}\")\n",
    "\n",
    "# save in csv file\n",
    "with open(annotation_file, 'w', newline='') as f:\n",
    "    writer = csv.writer(f)\n",
    "    writer.writerows(ancestors_annot)"
   ]
  },
  {
   "cell_type": "markdown",
   "id": "b2aa98d8",
   "metadata": {},
   "source": [
    "## MINI TREE 1 ( under ancestor N236)"
   ]
  },
  {
   "cell_type": "code",
   "execution_count": 19,
   "id": "0d7772de",
   "metadata": {},
   "outputs": [],
   "source": [
    "def get_indel_events(str1,str2):\n",
    "    dis = 0\n",
    "    prev_dis = 0\n",
    "    pos = []\n",
    "    val_dict_str1 = {}\n",
    "    val_dict_str2 = {}\n",
    "    val_for_pos = [612,714,749,991,1048,1049,1050,1071,1212]\n",
    "    for i in range(0,len(str1)):\n",
    "        if i+1 in val_for_pos:\n",
    "            val_dict_str1[i+1] = int(str1[i])\n",
    "            val_dict_str2[i+1] = int(str2[i])\n",
    "                \n",
    "        curr_dis = int(str1[i]) - int(str2[i])\n",
    "        if curr_dis != 0 and curr_dis != prev_dis:\n",
    "            dis += 1\n",
    "            pos.append(i+1)\n",
    "            \n",
    "        prev_dis = curr_dis\n",
    "    return dis,pos,val_dict_str1,val_dict_str2\n",
    "\n",
    "def get_tree_indel_events(method_fasta_file,nwk_file_path):\n",
    "    level = 0\n",
    "    extant_list = []\n",
    "    \n",
    "    # sequence info\n",
    "    sequences_fasta_info = FastaFile(method_fasta_file)\n",
    "    \n",
    "    # tree file\n",
    "    tree_file = open(nwk_file_path,\"r\")\n",
    "    my_tree = tree_file.read() + \";\"\n",
    "    tree = Tree(my_tree, format=1)\n",
    "    \n",
    "    for n in tree.traverse():\n",
    "        if n.up is not None: # root node\n",
    "            n.add_features(level = n.up.level + 1)\n",
    "            seq_name = n.name\n",
    "            indel_sequence_curr_level = sequences_fasta_info.fetch(n.name)\n",
    "            indel_sequence_up_level   = sequences_fasta_info.fetch(n.up.name)\n",
    "            total_indel_events,idel_pos,val_dict1,val_dict2 = get_indel_events(indel_sequence_up_level,indel_sequence_curr_level)\n",
    "            n.add_features(indel_events = total_indel_events)\n",
    "            if n.name in ['N239','N238','N236','N237'] or n.up.name in ['N239','N238','N236','N237']:\n",
    "                print(f\"Indel event between {n.up.name} and {n.name} is {total_indel_events}\")\n",
    "                print(idel_pos)\n",
    "                print(f\"{n.up.name} - {val_dict1}\")\n",
    "                print(f\"{n.name} - {val_dict2}\")\n",
    "\n",
    "        else:\n",
    "            n.add_features(level = level)\n",
    "            n.add_features(indel_events = 0)"
   ]
  },
  {
   "cell_type": "code",
   "execution_count": 20,
   "id": "a3f44d77",
   "metadata": {},
   "outputs": [
    {
     "name": "stdout",
     "output_type": "stream",
     "text": [
      "Indel event between N235 and N236 is 0\n",
      "[]\n",
      "N235 - {612: 0, 714: 0, 749: 0, 991: 0, 1048: 1, 1049: 1, 1050: 1, 1071: 0, 1212: 0}\n",
      "N236 - {612: 0, 714: 0, 749: 0, 991: 0, 1048: 1, 1049: 1, 1050: 1, 1071: 0, 1212: 0}\n",
      "Indel event between N236 and N237 is 2\n",
      "[2, 24]\n",
      "N236 - {612: 0, 714: 0, 749: 0, 991: 0, 1048: 1, 1049: 1, 1050: 1, 1071: 0, 1212: 0}\n",
      "N237 - {612: 0, 714: 0, 749: 0, 991: 0, 1048: 1, 1049: 1, 1050: 1, 1071: 0, 1212: 0}\n",
      "Indel event between N236 and N238 is 1\n",
      "[991]\n",
      "N236 - {612: 0, 714: 0, 749: 0, 991: 0, 1048: 1, 1049: 1, 1050: 1, 1071: 0, 1212: 0}\n",
      "N238 - {612: 0, 714: 0, 749: 0, 991: 1, 1048: 1, 1049: 1, 1050: 1, 1071: 0, 1212: 0}\n",
      "Indel event between N237 and sp|P16692|PHNP_ECOLI is 0\n",
      "[]\n",
      "N237 - {612: 0, 714: 0, 749: 0, 991: 0, 1048: 1, 1049: 1, 1050: 1, 1071: 0, 1212: 0}\n",
      "sp|P16692|PHNP_ECOLI - {612: 0, 714: 0, 749: 0, 991: 0, 1048: 1, 1049: 1, 1050: 1, 1071: 0, 1212: 0}\n",
      "Indel event between N237 and tr|A0A564JD77|A0A564JD77_9ENTR is 0\n",
      "[]\n",
      "N237 - {612: 0, 714: 0, 749: 0, 991: 0, 1048: 1, 1049: 1, 1050: 1, 1071: 0, 1212: 0}\n",
      "tr|A0A564JD77|A0A564JD77_9ENTR - {612: 0, 714: 0, 749: 0, 991: 0, 1048: 1, 1049: 1, 1050: 1, 1071: 0, 1212: 0}\n",
      "Indel event between N238 and tr|A0A4V4R7S6|A0A4V4R7S6_9PSED is 3\n",
      "[612, 714, 1048]\n",
      "N238 - {612: 0, 714: 0, 749: 0, 991: 1, 1048: 1, 1049: 1, 1050: 1, 1071: 0, 1212: 0}\n",
      "tr|A0A4V4R7S6|A0A4V4R7S6_9PSED - {612: 1, 714: 1, 749: 0, 991: 1, 1048: 0, 1049: 0, 1050: 0, 1071: 0, 1212: 0}\n",
      "Indel event between N238 and N239 is 1\n",
      "[869]\n",
      "N238 - {612: 0, 714: 0, 749: 0, 991: 1, 1048: 1, 1049: 1, 1050: 1, 1071: 0, 1212: 0}\n",
      "N239 - {612: 0, 714: 0, 749: 0, 991: 1, 1048: 1, 1049: 1, 1050: 1, 1071: 0, 1212: 0}\n",
      "Indel event between N239 and tr|A0A233RAG0|A0A233RAG0_9GAMM is 4\n",
      "[749, 991, 1071, 1212]\n",
      "N239 - {612: 0, 714: 0, 749: 0, 991: 1, 1048: 1, 1049: 1, 1050: 1, 1071: 0, 1212: 0}\n",
      "tr|A0A233RAG0|A0A233RAG0_9GAMM - {612: 0, 714: 0, 749: 1, 991: 0, 1048: 1, 1049: 1, 1050: 1, 1071: 1, 1212: 1}\n",
      "Indel event between N239 and tr|A0A4D4INH5|A0A4D4INH5_9ALTE is 1\n",
      "[1050]\n",
      "N239 - {612: 0, 714: 0, 749: 0, 991: 1, 1048: 1, 1049: 1, 1050: 1, 1071: 0, 1212: 0}\n",
      "tr|A0A4D4INH5|A0A4D4INH5_9ALTE - {612: 0, 714: 0, 749: 0, 991: 1, 1048: 1, 1049: 1, 1050: 0, 1071: 0, 1212: 0}\n"
     ]
    }
   ],
   "source": [
    "get_tree_indel_events(sol1,nwk_file_path)"
   ]
  },
  {
   "cell_type": "code",
   "execution_count": 21,
   "id": "6ca8ec55",
   "metadata": {},
   "outputs": [
    {
     "name": "stdout",
     "output_type": "stream",
     "text": [
      "Indel event between N235 and N236 is 0\n",
      "[]\n",
      "N235 - {612: 0, 714: 0, 749: 0, 991: 0, 1048: 1, 1049: 1, 1050: 1, 1071: 0, 1212: 0}\n",
      "N236 - {612: 0, 714: 0, 749: 0, 991: 0, 1048: 1, 1049: 1, 1050: 1, 1071: 0, 1212: 0}\n",
      "Indel event between N236 and N237 is 2\n",
      "[2, 24]\n",
      "N236 - {612: 0, 714: 0, 749: 0, 991: 0, 1048: 1, 1049: 1, 1050: 1, 1071: 0, 1212: 0}\n",
      "N237 - {612: 0, 714: 0, 749: 0, 991: 0, 1048: 1, 1049: 1, 1050: 1, 1071: 0, 1212: 0}\n",
      "Indel event between N236 and N238 is 0\n",
      "[]\n",
      "N236 - {612: 0, 714: 0, 749: 0, 991: 0, 1048: 1, 1049: 1, 1050: 1, 1071: 0, 1212: 0}\n",
      "N238 - {612: 0, 714: 0, 749: 0, 991: 0, 1048: 1, 1049: 1, 1050: 1, 1071: 0, 1212: 0}\n",
      "Indel event between N237 and sp|P16692|PHNP_ECOLI is 0\n",
      "[]\n",
      "N237 - {612: 0, 714: 0, 749: 0, 991: 0, 1048: 1, 1049: 1, 1050: 1, 1071: 0, 1212: 0}\n",
      "sp|P16692|PHNP_ECOLI - {612: 0, 714: 0, 749: 0, 991: 0, 1048: 1, 1049: 1, 1050: 1, 1071: 0, 1212: 0}\n",
      "Indel event between N237 and tr|A0A564JD77|A0A564JD77_9ENTR is 0\n",
      "[]\n",
      "N237 - {612: 0, 714: 0, 749: 0, 991: 0, 1048: 1, 1049: 1, 1050: 1, 1071: 0, 1212: 0}\n",
      "tr|A0A564JD77|A0A564JD77_9ENTR - {612: 0, 714: 0, 749: 0, 991: 0, 1048: 1, 1049: 1, 1050: 1, 1071: 0, 1212: 0}\n",
      "Indel event between N238 and tr|A0A4V4R7S6|A0A4V4R7S6_9PSED is 4\n",
      "[612, 714, 991, 1048]\n",
      "N238 - {612: 0, 714: 0, 749: 0, 991: 0, 1048: 1, 1049: 1, 1050: 1, 1071: 0, 1212: 0}\n",
      "tr|A0A4V4R7S6|A0A4V4R7S6_9PSED - {612: 1, 714: 1, 749: 0, 991: 1, 1048: 0, 1049: 0, 1050: 0, 1071: 0, 1212: 0}\n",
      "Indel event between N238 and N239 is 1\n",
      "[869]\n",
      "N238 - {612: 0, 714: 0, 749: 0, 991: 0, 1048: 1, 1049: 1, 1050: 1, 1071: 0, 1212: 0}\n",
      "N239 - {612: 0, 714: 0, 749: 0, 991: 0, 1048: 1, 1049: 1, 1050: 1, 1071: 0, 1212: 0}\n",
      "Indel event between N239 and tr|A0A233RAG0|A0A233RAG0_9GAMM is 3\n",
      "[749, 1071, 1212]\n",
      "N239 - {612: 0, 714: 0, 749: 0, 991: 0, 1048: 1, 1049: 1, 1050: 1, 1071: 0, 1212: 0}\n",
      "tr|A0A233RAG0|A0A233RAG0_9GAMM - {612: 0, 714: 0, 749: 1, 991: 0, 1048: 1, 1049: 1, 1050: 1, 1071: 1, 1212: 1}\n",
      "Indel event between N239 and tr|A0A4D4INH5|A0A4D4INH5_9ALTE is 2\n",
      "[991, 1050]\n",
      "N239 - {612: 0, 714: 0, 749: 0, 991: 0, 1048: 1, 1049: 1, 1050: 1, 1071: 0, 1212: 0}\n",
      "tr|A0A4D4INH5|A0A4D4INH5_9ALTE - {612: 0, 714: 0, 749: 0, 991: 1, 1048: 1, 1049: 1, 1050: 0, 1071: 0, 1212: 0}\n"
     ]
    }
   ],
   "source": [
    "get_tree_indel_events(sol2,nwk_file_path)"
   ]
  },
  {
   "cell_type": "markdown",
   "id": "3a8b5a6c",
   "metadata": {},
   "source": [
    "## MINI TREE 2 ( under ancestor N117)"
   ]
  },
  {
   "cell_type": "code",
   "execution_count": 5,
   "id": "322868b3",
   "metadata": {},
   "outputs": [
    {
     "name": "stdout",
     "output_type": "stream",
     "text": [
      "((((((((tr|A0A0C9YFG4|A0A0C9YFG4_9AGAR:0.386223,tr|A0A0D0E5N9|A0A0D0E5N9_9AGAM:0.385295)1:0.0686107,tr|A0A0D7BCQ6|A0A0D7BCQ6_9AGAR:0.813676)1:0.0838332,tr|A0A166LIQ8|A0A166LIQ8_9AGAM:0.443659)1:0.0946587,tr|A0A286UJK2|A0A286UJK2_9AGAM:0.531246)1:0.0710168,tr|A0A165L3U8|A0A165L3U8_EXIGL:0.381311)1:0.184432,tr|A0A0E9N9E2|A0A0E9N9E2_SAICN:0.700329)1:0.0553765,tr|A0A1Y2FE70|A0A1Y2FE70_PROLT:1.1045)1:0.192644,(tr|S8BW22|S8BW22_DACHA:0.986847,tr|D5G6Y2|D5G6Y2_TUBMM:0.893913)1:0.266066)1:0.157104;\n"
     ]
    }
   ],
   "source": [
    "node = tree.search_nodes(name=\"N176\")[0]\n",
    "print(node.write())"
   ]
  },
  {
   "cell_type": "code",
   "execution_count": 47,
   "id": "7678fa24",
   "metadata": {},
   "outputs": [],
   "source": [
    "def get_indel_events(str1,str2):\n",
    "    dis = 0\n",
    "    prev_dis = 0\n",
    "    pos = []\n",
    "    for i in range(0,len(str1)):\n",
    "        curr_dis = int(str1[i]) - int(str2[i])\n",
    "        \n",
    "        if curr_dis != 0 and curr_dis != prev_dis:\n",
    "            dis += 1\n",
    "            pos.append(i+1)\n",
    "        prev_dis = curr_dis\n",
    "        \n",
    "    return dis,pos\n",
    "\n",
    "def get_tree_indel_events(method_fasta_file,nwk_file_path):\n",
    "    level = 0\n",
    "    extant_list = []\n",
    "    \n",
    "    # sequence info\n",
    "    sequences_fasta_info = FastaFile(method_fasta_file)\n",
    "    \n",
    "    # tree file\n",
    "    tree_file = open(nwk_file_path,\"r\")\n",
    "    my_tree = tree_file.read() + \";\"\n",
    "    tree = Tree(my_tree, format=1)\n",
    "    \n",
    "    for n in tree.traverse():\n",
    "        if n.up is not None: # root node\n",
    "            n.add_features(level = n.up.level + 1)\n",
    "            seq_name = n.name\n",
    "            indel_sequence_curr_level = sequences_fasta_info.fetch(n.name)\n",
    "            indel_sequence_up_level   = sequences_fasta_info.fetch(n.up.name)\n",
    "            total_indel_events,pos = get_indel_events(indel_sequence_up_level,indel_sequence_curr_level)\n",
    "            n.add_features(indel_events = total_indel_events + n.up.indel_events)\n",
    "            if n.name in ['N178'] or n.up.name in ['N178']:\n",
    "                print(f\"Indel event between {n.up.name} and {n.name} is {total_indel_events}\")\n",
    "                #print(f\"{n.name},{total_indel_events}\")\n",
    "                print(f\"pos {pos}\")\n",
    "\n",
    "        else:\n",
    "            n.add_features(level = level)\n",
    "            n.add_features(indel_events = 0)"
   ]
  },
  {
   "cell_type": "code",
   "execution_count": 48,
   "id": "fb42696a",
   "metadata": {},
   "outputs": [
    {
     "name": "stdout",
     "output_type": "stream",
     "text": [
      "Indel event between N177 and N178 is 2\n",
      "pos [317, 626]\n",
      "Indel event between N178 and N179 is 0\n",
      "pos []\n",
      "Indel event between N178 and tr|A0A0E9N9E2|A0A0E9N9E2_SAICN is 11\n",
      "pos [27, 34, 90, 244, 263, 318, 324, 339, 481, 493, 1086]\n"
     ]
    }
   ],
   "source": [
    "get_tree_indel_events(sol1,nwk_file_path)"
   ]
  },
  {
   "cell_type": "code",
   "execution_count": 49,
   "id": "831c9aad",
   "metadata": {},
   "outputs": [
    {
     "name": "stdout",
     "output_type": "stream",
     "text": [
      "Indel event between N177 and N178 is 2\n",
      "pos [317, 626]\n",
      "Indel event between N178 and N179 is 0\n",
      "pos []\n",
      "Indel event between N178 and tr|A0A0E9N9E2|A0A0E9N9E2_SAICN is 11\n",
      "pos [27, 34, 90, 244, 263, 318, 324, 339, 481, 493, 1086]\n"
     ]
    }
   ],
   "source": [
    "get_tree_indel_events(sol2,nwk_file_path)"
   ]
  }
 ],
 "metadata": {
  "kernelspec": {
   "display_name": "Python 3 (ipykernel)",
   "language": "python",
   "name": "python3"
  },
  "language_info": {
   "codemirror_mode": {
    "name": "ipython",
    "version": 3
   },
   "file_extension": ".py",
   "mimetype": "text/x-python",
   "name": "python",
   "nbconvert_exporter": "python",
   "pygments_lexer": "ipython3",
   "version": "3.9.7"
  }
 },
 "nbformat": 4,
 "nbformat_minor": 5
}
