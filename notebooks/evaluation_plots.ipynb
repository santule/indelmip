{
 "cells": [
  {
   "cell_type": "code",
   "execution_count": 12,
   "metadata": {
    "executionInfo": {
     "elapsed": 4,
     "status": "ok",
     "timestamp": 1692665604974,
     "user": {
      "displayName": "Sanjana Tule",
      "userId": "12298962096129134000"
     },
     "user_tz": -600
    },
    "id": "wqoXdDyFN5I8"
   },
   "outputs": [],
   "source": [
    "import pandas as pd\n",
    "import seaborn as sns\n",
    "import matplotlib.pyplot as plt\n",
    "import glob, os\n",
    "experiment_result_folder = '/Users/sanjanatule/Documents/uq/Projects/Indels/indelmip/evaluation/'\n",
    "data_folder = '/Users/sanjanatule/Documents/uq/Projects/Indels/indelmip/data/'"
   ]
  },
  {
   "cell_type": "markdown",
   "metadata": {
    "id": "4VeaJtzCR3Eo"
   },
   "source": [
    "# SCORE"
   ]
  },
  {
   "cell_type": "code",
   "execution_count": 35,
   "metadata": {},
   "outputs": [],
   "source": [
    "# read all score files for all protein families in the folder\n",
    "with open(experiment_result_folder + 'all_score_evaluation.csv', 'w') as outfile:\n",
    "    outfile.write('protein_family,method,score\\n')\n",
    "    for pr in ['CYP2U_165','MBL_243','CYP2U_359','GDH-GOx_399','DHAD_585','CYP2U_595','KARI_716','KARI_1176','DHAD_1612','DHAD_1658','ALS_1990','MBL_624','CYP_3000']:\n",
    "        os.chdir(data_folder + pr + '/')\n",
    "        for fname in glob.glob(\"*score*\"):\n",
    "            with open(fname) as infile:\n",
    "                for line in infile:\n",
    "                    outfile.write(pr +',' + line + '\\n') "
   ]
  },
  {
   "cell_type": "code",
   "execution_count": 41,
   "metadata": {
    "colab": {
     "base_uri": "https://localhost:8080/",
     "height": 363
    },
    "executionInfo": {
     "elapsed": 1361,
     "status": "ok",
     "timestamp": 1692662508598,
     "user": {
      "displayName": "Sanjana Tule",
      "userId": "12298962096129134000"
     },
     "user_tz": -600
    },
    "id": "KafwMCkgR2dt",
    "outputId": "8ee72422-fa66-4c1e-94fc-d2ddf50961bf"
   },
   "outputs": [
    {
     "data": {
      "text/html": [
       "<div>\n",
       "<style scoped>\n",
       "    .dataframe tbody tr th:only-of-type {\n",
       "        vertical-align: middle;\n",
       "    }\n",
       "\n",
       "    .dataframe tbody tr th {\n",
       "        vertical-align: top;\n",
       "    }\n",
       "\n",
       "    .dataframe thead th {\n",
       "        text-align: right;\n",
       "    }\n",
       "</style>\n",
       "<table border=\"1\" class=\"dataframe\">\n",
       "  <thead>\n",
       "    <tr style=\"text-align: right;\">\n",
       "      <th></th>\n",
       "      <th>protein_family</th>\n",
       "      <th>method</th>\n",
       "      <th>score</th>\n",
       "    </tr>\n",
       "  </thead>\n",
       "  <tbody>\n",
       "    <tr>\n",
       "      <th>0</th>\n",
       "      <td>CYP2U_165</td>\n",
       "      <td>bep</td>\n",
       "      <td>5057</td>\n",
       "    </tr>\n",
       "    <tr>\n",
       "      <th>1</th>\n",
       "      <td>CYP2U_165</td>\n",
       "      <td>psp</td>\n",
       "      <td>4782</td>\n",
       "    </tr>\n",
       "    <tr>\n",
       "      <th>2</th>\n",
       "      <td>CYP2U_165</td>\n",
       "      <td>sicp</td>\n",
       "      <td>5121</td>\n",
       "    </tr>\n",
       "    <tr>\n",
       "      <th>3</th>\n",
       "      <td>CYP2U_165</td>\n",
       "      <td>mip</td>\n",
       "      <td>4635</td>\n",
       "    </tr>\n",
       "  </tbody>\n",
       "</table>\n",
       "</div>"
      ],
      "text/plain": [
       "  protein_family method  score\n",
       "0      CYP2U_165    bep   5057\n",
       "1      CYP2U_165    psp   4782\n",
       "2      CYP2U_165   sicp   5121\n",
       "3      CYP2U_165    mip   4635"
      ]
     },
     "metadata": {},
     "output_type": "display_data"
    },
    {
     "data": {
      "image/png": "[encoded data removed]",
      "text/plain": [
       "<Figure size 1074.5x720 with 1 Axes>"
      ]
     },
     "metadata": {
      "needs_background": "light"
     },
     "output_type": "display_data"
    }
   ],
   "source": [
    "score_data = pd.read_csv(experiment_result_folder + 'all_score_evaluation.csv')\n",
    "display(score_data.head(10))\n",
    "g = sns.catplot(data = score_data, kind='bar', x=\"protein_family\", y=\"score\", hue=\"method\", alpha=.7, height=10, aspect=11.7/8.27)\n",
    "g.despine(left=True)\n",
    "g.set_axis_labels(\"\", \"Indel Score\")\n",
    "g.legend.set_title(\"\")\n",
    "plt.savefig(experiment_result_folder + 'indel_score_plot.png')"
   ]
  },
  {
   "cell_type": "markdown",
   "metadata": {
    "id": "ii2ImdulRwwm"
   },
   "source": [
    "# NEW/OLD PATTERNS"
   ]
  },
  {
   "cell_type": "code",
   "execution_count": 52,
   "metadata": {},
   "outputs": [],
   "source": [
    "# read all score files for all protein families in the folder\n",
    "with open(experiment_result_folder + 'new_patterns_evaluation.csv', 'w') as outfile:\n",
    "    outfile.write('protein_family,method,new_patterns,total_ancestors\\n')\n",
    "    for pr in ['CYP2U_165','MBL_243','CYP2U_359','GDH-GOx_399','DHAD_585','CYP2U_595','KARI_716','KARI_1176','DHAD_1612','DHAD_1658','ALS_1990','MBL_624','CYP_3000']:\n",
    "        total_ancestors = int(pr.split('_')[1]) - 1\n",
    "        os.chdir(data_folder + pr + '/')\n",
    "        for fname in glob.glob(\"*new_pattern*\"):\n",
    "            with open(fname) as infile:\n",
    "                for line in infile:\n",
    "                    outfile.write(pr +',' + line + ',' + str(total_ancestors) + '\\n') "
   ]
  },
  {
   "cell_type": "code",
   "execution_count": 56,
   "metadata": {
    "colab": {
     "base_uri": "https://localhost:8080/",
     "height": 363
    },
    "executionInfo": {
     "elapsed": 958,
     "status": "ok",
     "timestamp": 1692662725841,
     "user": {
      "displayName": "Sanjana Tule",
      "userId": "12298962096129134000"
     },
     "user_tz": -600
    },
    "id": "lopgs7hoOEAq",
    "outputId": "945917e9-82e6-495c-d0db-269574bfdb16"
   },
   "outputs": [
    {
     "data": {
      "text/html": [
       "<div>\n",
       "<style scoped>\n",
       "    .dataframe tbody tr th:only-of-type {\n",
       "        vertical-align: middle;\n",
       "    }\n",
       "\n",
       "    .dataframe tbody tr th {\n",
       "        vertical-align: top;\n",
       "    }\n",
       "\n",
       "    .dataframe thead th {\n",
       "        text-align: right;\n",
       "    }\n",
       "</style>\n",
       "<table border=\"1\" class=\"dataframe\">\n",
       "  <thead>\n",
       "    <tr style=\"text-align: right;\">\n",
       "      <th></th>\n",
       "      <th>protein_family</th>\n",
       "      <th>method</th>\n",
       "      <th>new_patterns</th>\n",
       "      <th>total_ancestors</th>\n",
       "      <th>new_patterns%</th>\n",
       "    </tr>\n",
       "  </thead>\n",
       "  <tbody>\n",
       "    <tr>\n",
       "      <th>0</th>\n",
       "      <td>CYP2U_165</td>\n",
       "      <td>sicp</td>\n",
       "      <td>41</td>\n",
       "      <td>164</td>\n",
       "      <td>0.25</td>\n",
       "    </tr>\n",
       "    <tr>\n",
       "      <th>1</th>\n",
       "      <td>CYP2U_165</td>\n",
       "      <td>bep</td>\n",
       "      <td>38</td>\n",
       "      <td>164</td>\n",
       "      <td>0.23</td>\n",
       "    </tr>\n",
       "    <tr>\n",
       "      <th>2</th>\n",
       "      <td>CYP2U_165</td>\n",
       "      <td>mip</td>\n",
       "      <td>46</td>\n",
       "      <td>164</td>\n",
       "      <td>0.28</td>\n",
       "    </tr>\n",
       "    <tr>\n",
       "      <th>3</th>\n",
       "      <td>CYP2U_165</td>\n",
       "      <td>psp</td>\n",
       "      <td>45</td>\n",
       "      <td>164</td>\n",
       "      <td>0.27</td>\n",
       "    </tr>\n",
       "  </tbody>\n",
       "</table>\n",
       "</div>"
      ],
      "text/plain": [
       "  protein_family method  new_patterns  total_ancestors  new_patterns%\n",
       "0      CYP2U_165   sicp            41              164           0.25\n",
       "1      CYP2U_165    bep            38              164           0.23\n",
       "2      CYP2U_165    mip            46              164           0.28\n",
       "3      CYP2U_165    psp            45              164           0.27"
      ]
     },
     "metadata": {},
     "output_type": "display_data"
    },
    {
     "data": {
      "image/png": "[encoded data removed]",
      "text/plain": [
       "<Figure size 1074.5x720 with 1 Axes>"
      ]
     },
     "metadata": {
      "needs_background": "light"
     },
     "output_type": "display_data"
    }
   ],
   "source": [
    "new_old_p_data = pd.read_csv(experiment_result_folder + 'new_patterns_evaluation.csv')\n",
    "new_old_p_data['new_patterns%'] = round(new_old_p_data['new_patterns'] / (new_old_p_data['total_ancestors']),2)\n",
    "display(new_old_p_data.head(10))\n",
    "\n",
    "g = sns.catplot(data = new_old_p_data, kind='bar', x=\"protein_family\", y=\"new_patterns%\", hue=\"method\",  alpha=.7, height=10, aspect=11.7/8.27)\n",
    "g.despine(left=True)\n",
    "g.set_axis_labels(\"\", \"New Ancestor Indel Patterns\")\n",
    "g.legend.set_title(\"\")"
   ]
  },
  {
   "cell_type": "markdown",
   "metadata": {
    "id": "govngAsOkKMy"
   },
   "source": [
    "# OUT OF DISTRIBUTION PATTERNS\n"
   ]
  },
  {
   "cell_type": "code",
   "execution_count": 37,
   "metadata": {},
   "outputs": [],
   "source": [
    "# read all score files for all protein families in the folder\n",
    "with open(experiment_result_folder + 'out_of_dist_evaluation.csv', 'w') as outfile:\n",
    "    outfile.write('protein_family,method,out_of_dist_percent\\n')\n",
    "    for pr in ['CYP2U_165','MBL_243','CYP2U_359','GDH-GOx_399','DHAD_585','CYP2U_595','KARI_716','KARI_1176','DHAD_1612','DHAD_1658','ALS_1990','MBL_624','CYP_3000']:\n",
    "        os.chdir(data_folder + pr + '/')\n",
    "        for fname in glob.glob(\"*out_dist_percent*\"):\n",
    "            with open(fname) as infile:\n",
    "                for line in infile:\n",
    "                    outfile.write(pr +',' + line + '\\n') "
   ]
  },
  {
   "cell_type": "code",
   "execution_count": 40,
   "metadata": {
    "colab": {
     "base_uri": "https://localhost:8080/",
     "height": 363
    },
    "executionInfo": {
     "elapsed": 6,
     "status": "ok",
     "timestamp": 1692662907133,
     "user": {
      "displayName": "Sanjana Tule",
      "userId": "12298962096129134000"
     },
     "user_tz": -600
    },
    "id": "XZw3PofpkOWg",
    "outputId": "7f311e2f-0837-404f-b72c-b388bdd38863"
   },
   "outputs": [
    {
     "data": {
      "text/html": [
       "<div>\n",
       "<style scoped>\n",
       "    .dataframe tbody tr th:only-of-type {\n",
       "        vertical-align: middle;\n",
       "    }\n",
       "\n",
       "    .dataframe tbody tr th {\n",
       "        vertical-align: top;\n",
       "    }\n",
       "\n",
       "    .dataframe thead th {\n",
       "        text-align: right;\n",
       "    }\n",
       "</style>\n",
       "<table border=\"1\" class=\"dataframe\">\n",
       "  <thead>\n",
       "    <tr style=\"text-align: right;\">\n",
       "      <th></th>\n",
       "      <th>protein_family</th>\n",
       "      <th>method</th>\n",
       "      <th>out_of_dist_percent</th>\n",
       "    </tr>\n",
       "  </thead>\n",
       "  <tbody>\n",
       "    <tr>\n",
       "      <th>0</th>\n",
       "      <td>CYP2U_165</td>\n",
       "      <td>bep</td>\n",
       "      <td>0.0</td>\n",
       "    </tr>\n",
       "    <tr>\n",
       "      <th>1</th>\n",
       "      <td>CYP2U_165</td>\n",
       "      <td>sicp</td>\n",
       "      <td>0.0</td>\n",
       "    </tr>\n",
       "    <tr>\n",
       "      <th>2</th>\n",
       "      <td>CYP2U_165</td>\n",
       "      <td>mip</td>\n",
       "      <td>0.0</td>\n",
       "    </tr>\n",
       "    <tr>\n",
       "      <th>3</th>\n",
       "      <td>CYP2U_165</td>\n",
       "      <td>psp</td>\n",
       "      <td>6.7</td>\n",
       "    </tr>\n",
       "  </tbody>\n",
       "</table>\n",
       "</div>"
      ],
      "text/plain": [
       "  protein_family method  out_of_dist_percent\n",
       "0      CYP2U_165    bep                  0.0\n",
       "1      CYP2U_165   sicp                  0.0\n",
       "2      CYP2U_165    mip                  0.0\n",
       "3      CYP2U_165    psp                  6.7"
      ]
     },
     "metadata": {},
     "output_type": "display_data"
    },
    {
     "data": {
      "text/plain": [
       "<seaborn.axisgrid.FacetGrid at 0x7fcf4b7f4850>"
      ]
     },
     "execution_count": 40,
     "metadata": {},
     "output_type": "execute_result"
    },
    {
     "data": {
      "image/png": "[encoded data removed]",
      "text/plain": [
       "<Figure size 1074.5x720 with 1 Axes>"
      ]
     },
     "metadata": {
      "needs_background": "light"
     },
     "output_type": "display_data"
    }
   ],
   "source": [
    "out_of_dist_data = pd.read_csv(experiment_result_folder + 'out_of_dist_evaluation.csv')\n",
    "display(out_of_dist_data.head(10))\n",
    "g = sns.catplot(data = out_of_dist_data, kind='bar', x=\"protein_family\", y=\"out_of_dist_percent\", hue=\"method\",  alpha=.7, height=10, aspect=11.7/8.27)\n",
    "g.despine(left=True)\n",
    "g.set_axis_labels(\"\", \"% ancestors with out of distribution pattern\")"
   ]
  },
  {
   "cell_type": "markdown",
   "metadata": {
    "id": "_1VH5Y1_lkiN"
   },
   "source": [
    "# ANCESTORS WITH 3 MUTATION AWAY FROM ITS NEIGHBOURS"
   ]
  },
  {
   "cell_type": "code",
   "execution_count": 42,
   "metadata": {},
   "outputs": [],
   "source": [
    "# read all score files for all protein families in the folder\n",
    "with open(experiment_result_folder + 'ancestors_3_mutation_away.csv', 'w') as outfile:\n",
    "    outfile.write('protein_family,method,ancestors_3_mutation_percent\\n')\n",
    "    for pr in ['CYP2U_165','MBL_243','CYP2U_359','GDH-GOx_399','DHAD_585','CYP2U_595','KARI_716','KARI_1176','DHAD_1612','DHAD_1658','ALS_1990','MBL_624','CYP_3000']:\n",
    "        os.chdir(data_folder + pr + '/')\n",
    "        for fname in glob.glob(\"*ancestors_with_3_mut*\"):\n",
    "            with open(fname) as infile:\n",
    "                for line in infile:\n",
    "                    outfile.write(pr +',' + line + '\\n') "
   ]
  },
  {
   "cell_type": "code",
   "execution_count": 44,
   "metadata": {
    "colab": {
     "base_uri": "https://localhost:8080/",
     "height": 363
    },
    "executionInfo": {
     "elapsed": 1053,
     "status": "ok",
     "timestamp": 1692665699579,
     "user": {
      "displayName": "Sanjana Tule",
      "userId": "12298962096129134000"
     },
     "user_tz": -600
    },
    "id": "_4GRgLjtln72",
    "outputId": "d3421b05-bde3-41f1-8003-72ced7165c5e"
   },
   "outputs": [
    {
     "data": {
      "text/html": [
       "<div>\n",
       "<style scoped>\n",
       "    .dataframe tbody tr th:only-of-type {\n",
       "        vertical-align: middle;\n",
       "    }\n",
       "\n",
       "    .dataframe tbody tr th {\n",
       "        vertical-align: top;\n",
       "    }\n",
       "\n",
       "    .dataframe thead th {\n",
       "        text-align: right;\n",
       "    }\n",
       "</style>\n",
       "<table border=\"1\" class=\"dataframe\">\n",
       "  <thead>\n",
       "    <tr style=\"text-align: right;\">\n",
       "      <th></th>\n",
       "      <th>protein_family</th>\n",
       "      <th>method</th>\n",
       "      <th>ancestors_3_mutation_percent</th>\n",
       "    </tr>\n",
       "  </thead>\n",
       "  <tbody>\n",
       "    <tr>\n",
       "      <th>0</th>\n",
       "      <td>CYP2U_165</td>\n",
       "      <td>mip</td>\n",
       "      <td>0.00</td>\n",
       "    </tr>\n",
       "    <tr>\n",
       "      <th>1</th>\n",
       "      <td>CYP2U_165</td>\n",
       "      <td>bep</td>\n",
       "      <td>1.22</td>\n",
       "    </tr>\n",
       "    <tr>\n",
       "      <th>2</th>\n",
       "      <td>CYP2U_165</td>\n",
       "      <td>psp</td>\n",
       "      <td>0.00</td>\n",
       "    </tr>\n",
       "    <tr>\n",
       "      <th>3</th>\n",
       "      <td>CYP2U_165</td>\n",
       "      <td>sicp</td>\n",
       "      <td>0.00</td>\n",
       "    </tr>\n",
       "  </tbody>\n",
       "</table>\n",
       "</div>"
      ],
      "text/plain": [
       "  protein_family method  ancestors_3_mutation_percent\n",
       "0      CYP2U_165    mip                          0.00\n",
       "1      CYP2U_165    bep                          1.22\n",
       "2      CYP2U_165    psp                          0.00\n",
       "3      CYP2U_165   sicp                          0.00"
      ]
     },
     "metadata": {},
     "output_type": "display_data"
    },
    {
     "data": {
      "text/plain": [
       "<seaborn.axisgrid.FacetGrid at 0x7fcf3094a400>"
      ]
     },
     "execution_count": 44,
     "metadata": {},
     "output_type": "execute_result"
    },
    {
     "data": {
      "image/png": "[encoded data removed]",
      "text/plain": [
       "<Figure size 1274.74x504 with 1 Axes>"
      ]
     },
     "metadata": {
      "needs_background": "light"
     },
     "output_type": "display_data"
    }
   ],
   "source": [
    "a_3_mut_data = pd.read_csv(experiment_result_folder + 'ancestors_3_mutation_away.csv')\n",
    "display(a_3_mut_data.head(10))\n",
    "g = sns.catplot(data = a_3_mut_data, kind='bar', x=\"protein_family\", y=\"ancestors_3_mutation_percent\", hue=\"method\", alpha=.7, height=7, aspect=20/8.27)\n",
    "g.despine(left=True)\n",
    "g.set_axis_labels(\"\", \"% ancestors with 3 mutations away from its neighbours\")"
   ]
  },
  {
   "cell_type": "code",
   "execution_count": null,
   "metadata": {},
   "outputs": [],
   "source": []
  }
 ],
 "metadata": {
  "colab": {
   "authorship_tag": "ABX9TyNI6AFVtYHCP5ryH1GUjT15",
   "mount_file_id": "1ruTWwQvLpANA6UUfYD_7swYFIoT-xMjr",
   "provenance": []
  },
  "kernelspec": {
   "display_name": "Python 3 (ipykernel)",
   "language": "python",
   "name": "python3"
  },
  "language_info": {
   "codemirror_mode": {
    "name": "ipython",
    "version": 3
   },
   "file_extension": ".py",
   "mimetype": "text/x-python",
   "name": "python",
   "nbconvert_exporter": "python",
   "pygments_lexer": "ipython3",
   "version": "3.9.7"
  }
 },
 "nbformat": 4,
 "nbformat_minor": 1
}
