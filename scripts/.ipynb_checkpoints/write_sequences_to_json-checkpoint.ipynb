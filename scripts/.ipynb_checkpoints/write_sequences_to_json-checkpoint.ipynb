{
 "cells": [
  {
   "cell_type": "code",
   "execution_count": 1,
   "id": "d69cffcf",
   "metadata": {},
   "outputs": [],
   "source": [
    "import json\n",
    "from pysam import FastaFile,FastxFile"
   ]
  },
  {
   "cell_type": "code",
   "execution_count": 4,
   "id": "07edd792",
   "metadata": {},
   "outputs": [],
   "source": [
    "def read_sequences(ancestor_file,extant_file,output_json):\n",
    "    \n",
    "    \n",
    "    #sequence_dict = {}\n",
    "    json_dict = {\"treename\": \"Demo\",\"nodes\":{},\"important\":[\"root\"]}\n",
    "    \n",
    "    \n",
    "    # read ancestor file\n",
    "    with FastxFile(ancestor_file) as fh:\n",
    "        for entry in fh:\n",
    "            #sequence_dict[entry.name] = str(entry.sequence)\n",
    "            json_dict[\"nodes\"][entry.name] = {}\n",
    "            json_dict[\"nodes\"][entry.name][\"SEQ\"] = str(entry.sequence)\n",
    "            #str(entry.sequence)\n",
    "\n",
    "    # read extant file\n",
    "    with FastxFile(extant_file) as fh:\n",
    "        for entry in fh:\n",
    "            #sequence_dict[entry.name] = str(entry.sequence)\n",
    "            json_dict[\"nodes\"][entry.name] = {}\n",
    "            json_dict[\"nodes\"][entry.name][\"SEQ\"] = str(entry.sequence)\n",
    "\n",
    "    # make special entry for root as root is called N0 in grasp\n",
    "    json_dict[\"nodes\"]['root'] = json_dict[\"nodes\"]['N0'] \n",
    "    \n",
    "        \n",
    "    print(json_dict)\n",
    "    \n",
    "    # create json file\n",
    "    with open(output_json, mode='w') as fout:\n",
    "        json.dump(json_dict,fout)\n",
    "        fout.close()"
   ]
  },
  {
   "cell_type": "code",
   "execution_count": 5,
   "id": "e8d6c466",
   "metadata": {},
   "outputs": [
    {
     "name": "stdout",
     "output_type": "stream",
     "text": [
      "{'treename': 'Demo', 'nodes': {'N0': {'SEQ': 'A-AAAAT--A-AAA'}, 'N1': {'SEQ': 'A-AAAAT--A-AAA'}, 'N9': {'SEQ': 'A-AAVAS--A-AAA'}, 'N2': {'SEQ': 'A-AAAAT--PLALA'}, 'N6': {'SEQ': 'A-AAAVT--A-AAA'}, 'N10': {'SEQ': 'A-AAVAS--A-AAA'}, 'N18': {'SEQ': 'A-AAVAS--A-AAA'}, 'N3': {'SEQ': 'A-AAAAT--PLALA'}, 'N5': {'SEQ': '--AAAAL---LA-A'}, 'N7': {'SEQ': 'A-AAAVT--A-AAA'}, 'N11': {'SEQ': '-SAAVASMKA-AAA'}, 'N13': {'SEQ': 'A-AAVAS--A-AAA'}, 'N4': {'SEQ': 'A-AAAAT--PLALA'}, 'N8': {'SEQ': 'A-AAAVT--A-AAA'}, 'N12': {'SEQ': '-SAAVASM-A-AAA'}, 'N14': {'SEQ': 'A-AAVAS--A-AAA'}, 'N15': {'SEQ': 'A-AAVAS--A-AAA'}, 'N16': {'SEQ': 'A-AAVAS--A-AAV'}, 'N17': {'SEQ': 'A-AAVAS--A-AAV'}, 'A3': {'SEQ': 'A-AAAAT--PLALA'}, 'A9': {'SEQ': 'A-AATAT--PLALA'}, 'A4': {'SEQ': 'A-AAAAT--PLALA'}, 'A20': {'SEQ': 'A-AAAAL--PLA-A'}, 'A8': {'SEQ': '---AAAL--PLA-A'}, 'A5': {'SEQ': 'A-AAAVT--A-AAA'}, 'A19': {'SEQ': 'A-AAAVT--A-AAA'}, 'A1': {'SEQ': 'Y-AAAVT--A-AAA'}, 'A17': {'SEQ': 'A-AAAVT--A-AAA'}, 'A10': {'SEQ': '-SAAVASMKA-AAA'}, 'A7': {'SEQ': '-SAAVASM-A-AAA'}, 'A16': {'SEQ': '-SAAVASM-A--AA'}, 'A18': {'SEQ': 'A-AAVAS--A-AAA'}, 'A13': {'SEQ': 'A-AAVAS--A-AAA'}, 'A15': {'SEQ': 'A-AAVAS--A-AAA'}, 'A14': {'SEQ': 'A-AAVAS--A-AAV'}, 'A11': {'SEQ': 'A-AAVAS--A-AAV'}, 'A12': {'SEQ': 'A-AAVAS--A-AAV'}, 'A2': {'SEQ': 'A-AAVAS--A-AAS'}, 'A6': {'SEQ': 'A-AAVAS--A-A-A'}, 'root': {'SEQ': 'A-AAAAT--A-AAA'}}, 'important': ['root']}\n"
     ]
    }
   ],
   "source": [
    "# load the ancestor sequences\n",
    "ancestor_fasta = \"/Users/sanjanatule/Documents/uq/Projects/PreferredPath/data/grasp_ancestors.fasta\"\n",
    "new_ancestor_fasta = \"/Users/sanjanatule/Documents/uq/Projects/PreferredPath/data/new_grasp_ancestors.fasta\"\n",
    "\n",
    "# load extant sequences\n",
    "extant_file = \"/Users/sanjanatule/Documents/uq/Projects/PreferredPath/data/input_extants.fasta\"\n",
    "\n",
    "# output file\n",
    "output_json = '/Users/sanjanatule/Documents/uq/Projects/PreferredPath/data/tree_annotations.json'\n",
    "output_json = '/Users/sanjanatule/Documents/uq/Projects/PreferredPath/data/new_tree_annotations.json'\n",
    "\n",
    "read_sequences(new_ancestor_fasta,extant_file,output_json)"
   ]
  }
 ],
 "metadata": {
  "kernelspec": {
   "display_name": "Python 3 (ipykernel)",
   "language": "python",
   "name": "python3"
  },
  "language_info": {
   "codemirror_mode": {
    "name": "ipython",
    "version": 3
   },
   "file_extension": ".py",
   "mimetype": "text/x-python",
   "name": "python",
   "nbconvert_exporter": "python",
   "pygments_lexer": "ipython3",
   "version": "3.9.7"
  }
 },
 "nbformat": 4,
 "nbformat_minor": 5
}
