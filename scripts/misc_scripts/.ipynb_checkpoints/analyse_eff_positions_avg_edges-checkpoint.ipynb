{
 "cells": [
  {
   "cell_type": "code",
   "execution_count": 1,
   "id": "644f6531",
   "metadata": {},
   "outputs": [],
   "source": [
    "import pickle\n",
    "import numpy as np\n",
    "from itertools import accumulate\n",
    "import operator"
   ]
  },
  {
   "cell_type": "code",
   "execution_count": 3,
   "id": "34f2af18",
   "metadata": {},
   "outputs": [],
   "source": [
    "def eff_pos(extant_data):\n",
    "    \n",
    "    # find effective positions\n",
    "    \n",
    "    total_sequences = len(extant_data.values())\n",
    "    sequence_length = len(list(extant_data.values())[0])\n",
    "    \n",
    "    # convert string of sequences into array\n",
    "    all_seq = []\n",
    "    for seq in extant_data.values():\n",
    "        all_seq.append([int(i) for i in seq]) \n",
    "    sum_all_pos = (np.array(all_seq).sum(axis=0) == total_sequences) + 0\n",
    "    #print(sum_all_pos)\n",
    "    \n",
    "    # count consecutive 1s of size > 2\n",
    "    ones_sets  = []\n",
    "    cons_ones  = []\n",
    "    found_one  = 0\n",
    "    \n",
    "    for ind,i in enumerate(sum_all_pos):\n",
    "        if i == 1:\n",
    "            if found_one == 1:\n",
    "                cons_ones.append(ind)\n",
    "            else:\n",
    "                cons_ones.append(ind)\n",
    "                found_one = 1\n",
    "        else:\n",
    "            found_one = 0\n",
    "            if len(cons_ones) >= 2:\n",
    "                ones_sets.append(cons_ones)\n",
    "            cons_ones = []\n",
    "            \n",
    "    # calculate effective positions\n",
    "    #print(ones_sets)\n",
    "    re_pos = 0\n",
    "    for o in ones_sets:\n",
    "        re_pos += len(o) - 1\n",
    "    \n",
    "    print(f\"total_sequences:{total_sequences}\")\n",
    "    print(f\"sequence_length:{sequence_length}\")\n",
    "    print(f\"re_pos:{re_pos}\")\n",
    "    eff_pos = sequence_length - re_pos\n",
    "    print(f\"eff_pos:{eff_pos}\")\n",
    "    return eff_pos\n",
    "\n",
    "def avg_edges(extant_data,ancestor_data):\n",
    "    \n",
    "    sequence_length = len(list(extant_data.values())[0])\n",
    "    edges_out = ancestor_data[1]\n",
    "    edges_in  = ancestor_data[2]\n",
    "    \n",
    "    eo_len_list = [len(eo) for eo in list(edges_out.values())]\n",
    "    ei_len_list = [len(ei) for ei in list(edges_in.values())]\n",
    "    \n",
    "    all_edges = list( map(add, eo_len_list, ei_len_list) )     \n",
    "    avg_edges  = sum(all_edges) / len(all_edges)\n",
    "\n",
    "    print(f\"Avg edges/position:{avg_edges}\")"
   ]
  },
  {
   "cell_type": "code",
   "execution_count": 4,
   "id": "e6b06f41",
   "metadata": {},
   "outputs": [
    {
     "name": "stdout",
     "output_type": "stream",
     "text": [
      "Tree- echidna\n",
      "total_sequences:150\n",
      "sequence_length:4679\n",
      "re_pos:62\n",
      "eff_pos:4617\n"
     ]
    },
    {
     "ename": "NameError",
     "evalue": "name 'add' is not defined",
     "output_type": "error",
     "traceback": [
      "\u001b[0;31m---------------------------------------------------------------------------\u001b[0m",
      "\u001b[0;31mNameError\u001b[0m                                 Traceback (most recent call last)",
      "\u001b[0;32m/var/folders/6g/6gy05kt92q5478c3_f84df280000gn/T/ipykernel_28600/1394231522.py\u001b[0m in \u001b[0;36m<module>\u001b[0;34m\u001b[0m\n\u001b[1;32m     19\u001b[0m \u001b[0;34m\u001b[0m\u001b[0m\n\u001b[1;32m     20\u001b[0m     \u001b[0meff_pos\u001b[0m\u001b[0;34m(\u001b[0m\u001b[0mextant_data\u001b[0m\u001b[0;34m)\u001b[0m\u001b[0;34m\u001b[0m\u001b[0;34m\u001b[0m\u001b[0m\n\u001b[0;32m---> 21\u001b[0;31m     \u001b[0mavg_edges\u001b[0m\u001b[0;34m(\u001b[0m\u001b[0mextant_data\u001b[0m\u001b[0;34m,\u001b[0m\u001b[0mancestor_data\u001b[0m\u001b[0;34m)\u001b[0m\u001b[0;34m\u001b[0m\u001b[0;34m\u001b[0m\u001b[0m\n\u001b[0m",
      "\u001b[0;32m/var/folders/6g/6gy05kt92q5478c3_f84df280000gn/T/ipykernel_28600/1789694044.py\u001b[0m in \u001b[0;36mavg_edges\u001b[0;34m(extant_data, ancestor_data)\u001b[0m\n\u001b[1;32m     53\u001b[0m     \u001b[0mei_len_list\u001b[0m \u001b[0;34m=\u001b[0m \u001b[0;34m[\u001b[0m\u001b[0mlen\u001b[0m\u001b[0;34m(\u001b[0m\u001b[0mei\u001b[0m\u001b[0;34m)\u001b[0m \u001b[0;32mfor\u001b[0m \u001b[0mei\u001b[0m \u001b[0;32min\u001b[0m \u001b[0mlist\u001b[0m\u001b[0;34m(\u001b[0m\u001b[0medges_in\u001b[0m\u001b[0;34m.\u001b[0m\u001b[0mvalues\u001b[0m\u001b[0;34m(\u001b[0m\u001b[0;34m)\u001b[0m\u001b[0;34m)\u001b[0m\u001b[0;34m]\u001b[0m\u001b[0;34m\u001b[0m\u001b[0;34m\u001b[0m\u001b[0m\n\u001b[1;32m     54\u001b[0m \u001b[0;34m\u001b[0m\u001b[0m\n\u001b[0;32m---> 55\u001b[0;31m     \u001b[0mall_edges\u001b[0m \u001b[0;34m=\u001b[0m \u001b[0mlist\u001b[0m\u001b[0;34m(\u001b[0m \u001b[0mmap\u001b[0m\u001b[0;34m(\u001b[0m\u001b[0madd\u001b[0m\u001b[0;34m,\u001b[0m \u001b[0meo_len_list\u001b[0m\u001b[0;34m,\u001b[0m \u001b[0mei_len_list\u001b[0m\u001b[0;34m)\u001b[0m \u001b[0;34m)\u001b[0m\u001b[0;34m\u001b[0m\u001b[0;34m\u001b[0m\u001b[0m\n\u001b[0m\u001b[1;32m     56\u001b[0m     \u001b[0mavg_edges\u001b[0m  \u001b[0;34m=\u001b[0m \u001b[0msum\u001b[0m\u001b[0;34m(\u001b[0m\u001b[0mall_edges\u001b[0m\u001b[0;34m)\u001b[0m \u001b[0;34m/\u001b[0m \u001b[0mlen\u001b[0m\u001b[0;34m(\u001b[0m\u001b[0mall_edges\u001b[0m\u001b[0;34m)\u001b[0m\u001b[0;34m\u001b[0m\u001b[0;34m\u001b[0m\u001b[0m\n\u001b[1;32m     57\u001b[0m \u001b[0;34m\u001b[0m\u001b[0m\n",
      "\u001b[0;31mNameError\u001b[0m: name 'add' is not defined"
     ]
    }
   ],
   "source": [
    "folder_location         = '/Users/sanjanatule/Documents/uq/Projects/MIPIndel/data/'\n",
    "\n",
    "for tree_name in ['echidna','space_adventure']:#['CYP2U_165','CYP2U_359','anthony','DHAD_1612','ALS','MBL']:\n",
    "\n",
    "    print(\"Tree-\",tree_name)\n",
    "\n",
    "    mip_ancestor_fasta_file = folder_location + tree_name + '/mip_ancestor_indel.fasta'\n",
    "    mip_model_file = folder_location + tree_name + '/mip_model.lp'\n",
    "\n",
    "    # read input Dataset\n",
    "    with open(folder_location + tree_name + '/ancestor_info.pkl', 'rb') as f:\n",
    "        ancestor_data = pickle.load(f)\n",
    "\n",
    "    with open(folder_location + tree_name + '/neighbor_dict.pkl', 'rb') as f:\n",
    "        neighbor_dict = pickle.load(f)\n",
    "\n",
    "    with open(folder_location + tree_name + '/extant_data.pkl', 'rb') as f:\n",
    "        extant_data = pickle.load(f)\n",
    "        \n",
    "    eff_pos(extant_data)\n",
    "    avg_edges(extant_data,ancestor_data)"
   ]
  },
  {
   "cell_type": "code",
   "execution_count": null,
   "id": "7dbefd1c",
   "metadata": {},
   "outputs": [],
   "source": []
  }
 ],
 "metadata": {
  "kernelspec": {
   "display_name": "Python 3 (ipykernel)",
   "language": "python",
   "name": "python3"
  },
  "language_info": {
   "codemirror_mode": {
    "name": "ipython",
    "version": 3
   },
   "file_extension": ".py",
   "mimetype": "text/x-python",
   "name": "python",
   "nbconvert_exporter": "python",
   "pygments_lexer": "ipython3",
   "version": "3.9.7"
  }
 },
 "nbformat": 4,
 "nbformat_minor": 5
}
