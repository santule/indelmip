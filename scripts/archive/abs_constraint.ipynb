{
 "cells": [
  {
   "cell_type": "code",
   "execution_count": 1,
   "id": "35be05fa",
   "metadata": {},
   "outputs": [],
   "source": [
    "import gurobipy as gp\n",
    "from gurobipy import abs_,quicksum\n",
    "from gurobipy import GRB\n",
    "import time\n",
    "import json\n",
    "from collections import defaultdict\n",
    "from ete3 import Tree\n",
    "import numpy as np\n",
    "from pysam import FastaFile\n",
    "import re"
   ]
  },
  {
   "cell_type": "code",
   "execution_count": 15,
   "id": "e5381082",
   "metadata": {},
   "outputs": [
    {
     "name": "stdout",
     "output_type": "stream",
     "text": [
      "Gurobi Optimizer version 9.5.2 build v9.5.2rc0 (mac64[rosetta2])\n",
      "Thread count: 10 physical cores, 10 logical processors, using up to 10 threads\n",
      "Optimize a model with 6 rows, 3 columns and 14 nonzeros\n",
      "Model fingerprint: 0xf9494924\n",
      "Variable types: 0 continuous, 3 integer (3 binary)\n",
      "Coefficient statistics:\n",
      "  Matrix range     [1e+00, 1e+00]\n",
      "  Objective range  [0e+00, 0e+00]\n",
      "  Bounds range     [1e+00, 1e+00]\n",
      "  RHS range        [1e+00, 2e+00]\n",
      "Found heuristic solution: objective 0.0000000\n",
      "\n",
      "Explored 0 nodes (0 simplex iterations) in 0.00 seconds (0.00 work units)\n",
      "Thread count was 1 (of 10 available processors)\n",
      "\n",
      "Solution count 1: 0 \n",
      "\n",
      "Optimal solution found (tolerance 1.00e-04)\n",
      "Best objective 0.000000000000e+00, best bound 0.000000000000e+00, gap 0.0000%\n",
      "x1 1\n",
      "x2 1\n",
      "y -0\n",
      "Obj: 0\n"
     ]
    }
   ],
   "source": [
    "m = gp.Model(\"PreferredPathSolve\")\n",
    "x1 = m.addVar(vtype=GRB.BINARY, name=\"x1\")\n",
    "x2 = m.addVar(vtype=GRB.BINARY, name=\"x2\")\n",
    "y = m.addVar(vtype=GRB.BINARY, name=\"y\")\n",
    "# abs difference constraint\n",
    "m.addConstr( y <= x1 + x2)\n",
    "m.addConstr( y >= x1 - x2)\n",
    "m.addConstr( y >= x2 - x1)\n",
    "m.addConstr( y <= 2 - x1 - x2)\n",
    "m.addConstr(x1==1)\n",
    "m.addConstr(x2==1)\n",
    "\n",
    "#m.setObjective(y, GRB.MAXIMIZE)\n",
    "\n",
    "# Optimize model\n",
    "m.optimize()\n",
    "\n",
    "for v in m.getVars():\n",
    "    print('%s %g' % (v.VarName, v.X))\n",
    "\n",
    "print('Obj: %g' % m.ObjVal)"
   ]
  },
  {
   "cell_type": "code",
   "execution_count": null,
   "id": "e7c36a3f",
   "metadata": {},
   "outputs": [],
   "source": []
  }
 ],
 "metadata": {
  "kernelspec": {
   "display_name": "Python 3 (ipykernel)",
   "language": "python",
   "name": "python3"
  },
  "language_info": {
   "codemirror_mode": {
    "name": "ipython",
    "version": 3
   },
   "file_extension": ".py",
   "mimetype": "text/x-python",
   "name": "python",
   "nbconvert_exporter": "python",
   "pygments_lexer": "ipython3",
   "version": "3.9.7"
  }
 },
 "nbformat": 4,
 "nbformat_minor": 5
}
