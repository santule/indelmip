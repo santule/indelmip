{
 "cells": [
  {
   "cell_type": "code",
   "execution_count": 1,
   "id": "aab533d4",
   "metadata": {},
   "outputs": [],
   "source": [
    "import string\n",
    "import Levenshtein as lev\n",
    "from ete3 import Tree\n",
    "from pysam import FastaFile"
   ]
  },
  {
   "cell_type": "code",
   "execution_count": 2,
   "id": "ca161ce7",
   "metadata": {},
   "outputs": [
    {
     "data": {
      "text/plain": [
       "4"
      ]
     },
     "execution_count": 2,
     "metadata": {},
     "output_type": "execute_result"
    }
   ],
   "source": [
    "def distance_lev(str1,str2):\n",
    "    distance_strings = lev.distance(str1,str2)\n",
    "    return distance_strings\n",
    "\n",
    "distance_lev('king','kind')\n",
    "distance_lev('ki-g','jkkl-d')"
   ]
  },
  {
   "cell_type": "code",
   "execution_count": 16,
   "id": "9fd13067",
   "metadata": {},
   "outputs": [],
   "source": [
    "# load the tree\n",
    "tree_string_file = open('/Users/sanjanatule/Documents/uq/Projects/PreferredPath/data/sample_tree/grasp_ancestors.nwk',\"r\")\n",
    "my_tree = tree_string_file.read() + \";\"\n",
    "t = Tree(my_tree, format=1)"
   ]
  },
  {
   "cell_type": "code",
   "execution_count": 4,
   "id": "5fd7f30d",
   "metadata": {},
   "outputs": [],
   "source": [
    "#print(t)"
   ]
  },
  {
   "cell_type": "code",
   "execution_count": 21,
   "id": "70197b8b",
   "metadata": {},
   "outputs": [],
   "source": [
    "# load the ancestor sequences\n",
    "#ancestor_fasta = \"/Users/sanjanatule/Documents/uq/Projects/PreferredPath/data/sample_tree/grasp_ancestors.fa\"\n",
    "#ancestors_sequences_info = FastaFile(ancestor_fasta)\n",
    "\n",
    "ancestor_fasta = \"/Users/sanjanatule/Documents/uq/Projects/PreferredPath/data/sample_tree/new_grasp_ancestors.fasta\"\n",
    "ancestors_sequences_info = FastaFile(ancestor_fasta)\n",
    "\n",
    "# load extant sequences\n",
    "input_file = \"/Users/sanjanatule/Documents/uq/Projects/PreferredPath/data/sample_tree/input_extants.fasta\"\n",
    "extant_sequences_info = FastaFile(input_file)"
   ]
  },
  {
   "cell_type": "code",
   "execution_count": 22,
   "id": "e0aa6c59",
   "metadata": {},
   "outputs": [],
   "source": [
    "# load sequences on the tree\n",
    "for n in t.traverse():\n",
    "    try:\n",
    "        n.add_features(sequence = ancestors_sequences_info.fetch(n.name))\n",
    "    except:\n",
    "        n.add_features(sequence = extant_sequences_info.fetch(n.name))"
   ]
  },
  {
   "cell_type": "code",
   "execution_count": 23,
   "id": "718aceec",
   "metadata": {},
   "outputs": [],
   "source": [
    "# traverse tree from top down and append 3 sequences ( except for root) for each node to calculate the Lev distance \n",
    "# from its neighbours\n",
    "for n in t.traverse():\n",
    "#     print(\"node-\",n.name)\n",
    "    if n.is_root() == True: # has no parent\n",
    "        neighbour_sequence_list = []\n",
    "        for c in n.children:\n",
    "            neighbour_sequence_list.append(c.sequence)\n",
    "            \n",
    "        n.add_features(neighbour_sequence = neighbour_sequence_list)\n",
    "    \n",
    "    elif n.is_leaf() == False:\n",
    "        neighbour_sequence_list = []\n",
    "        # child sequences\n",
    "        for c in n.children:\n",
    "            neighbour_sequence_list.append(c.sequence)\n",
    "        # parent sequences\n",
    "        neighbour_sequence_list.append(n.up.sequence)\n",
    "        n.add_features(neighbour_sequence = neighbour_sequence_list)"
   ]
  },
  {
   "cell_type": "code",
   "execution_count": 24,
   "id": "2f9d092c",
   "metadata": {},
   "outputs": [
    {
     "name": "stdout",
     "output_type": "stream",
     "text": [
      "total score:: 12.0\n"
     ]
    }
   ],
   "source": [
    "# calculate the average distance for each node\n",
    "parsi_score = 0\n",
    "for n in t.traverse():\n",
    "    if n.is_leaf() == False:\n",
    "        neigh_dist_list = []\n",
    "        # for each neighbour calculate the distance\n",
    "        for s in n.neighbour_sequence:\n",
    "            neigh_dist_list.append(distance_lev(n.sequence,s))\n",
    "        # average distance\n",
    "        node_avg_distance = sum(neigh_dist_list) / len(neigh_dist_list) \n",
    "        parsi_score = parsi_score + node_avg_distance\n",
    "print(\"total score::\",parsi_score)"
   ]
  }
 ],
 "metadata": {
  "kernelspec": {
   "display_name": "Python 3 (ipykernel)",
   "language": "python",
   "name": "python3"
  },
  "language_info": {
   "codemirror_mode": {
    "name": "ipython",
    "version": 3
   },
   "file_extension": ".py",
   "mimetype": "text/x-python",
   "name": "python",
   "nbconvert_exporter": "python",
   "pygments_lexer": "ipython3",
   "version": "3.9.7"
  }
 },
 "nbformat": 4,
 "nbformat_minor": 5
}
