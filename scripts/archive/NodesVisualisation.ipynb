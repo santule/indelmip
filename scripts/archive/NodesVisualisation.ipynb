{
 "cells": [
  {
   "cell_type": "markdown",
   "id": "10dd6f6f",
   "metadata": {},
   "source": [
    "## Python script to visualize ancestor and extant nodes in 2D Space"
   ]
  },
  {
   "cell_type": "code",
   "execution_count": 1,
   "id": "0d3c53da",
   "metadata": {},
   "outputs": [],
   "source": [
    "import mca\n",
    "import pandas as pd\n",
    "import prince\n",
    "from pysam import FastaFile,FastxFile\n",
    "import seaborn as sns\n",
    "import re\n",
    "import matplotlib.pyplot as plt\n",
    "import numpy as np\n",
    "from ete3 import Tree\n",
    "import json\n",
    "from collections import defaultdict"
   ]
  },
  {
   "cell_type": "code",
   "execution_count": 2,
   "id": "fe35437f",
   "metadata": {},
   "outputs": [],
   "source": [
    "def process_node_type(json_file):\n",
    "    ''' mark nodes as extants or ancestor '''\n",
    "    node_type_dict = defaultdict(list)\n",
    "    # read the json file\n",
    "    with open(json_file, 'r') as j:\n",
    "        pog_all_data = json.loads(j.read())\n",
    "\n",
    "        # read all ancestors\n",
    "        for node_type in ['Ancestors','Extants']:\n",
    "            for pog_data in pog_all_data[node_type]:\n",
    "                if node_type == 'Ancestors':\n",
    "                    node_name = 'N' + pog_data['Name']\n",
    "                    node_type_dict['Ancestor'] += [node_name]\n",
    "                else:\n",
    "                    node_name = pog_data['Name']\n",
    "                    node_type_dict['Extant'] += [node_name]\n",
    "\n",
    "    return node_type_dict\n",
    "\n",
    "''' process fasta file and convert sequences into 1/0 '''\n",
    "def process_sequences(ancestor_fasta_file):\n",
    "    all_seq_list = {}\n",
    "    sequences_info = FastaFile(ancestor_fasta_file)\n",
    "    with FastxFile(ancestor_fasta_file) as fh:\n",
    "        for entry in fh:\n",
    "            # convert into 1/0\n",
    "            grasp_output_seq =  re.sub('[a-zA-Z]', '1', str(entry.sequence) )\n",
    "            grasp_output_seq = grasp_output_seq.replace('-','0')\n",
    "            all_seq_list[entry.name] = [g for g in grasp_output_seq]\n",
    "    data = pd.DataFrame(all_seq_list)\n",
    "    data = data.T\n",
    "    return data\n",
    "\n",
    "''' run mca on the data '''\n",
    "def run_mca(data,node_type_dict):\n",
    "    mca = prince.MCA(n_components=2,\n",
    "    n_iter=100,\n",
    "    copy=True,\n",
    "    check_input=True,\n",
    "    engine='auto',\n",
    "    random_state=42)\n",
    "    mca.fit(data)\n",
    "    mca = mca.transform(data) # same as calling ca.fs_r_sup(df_new) for *another* test set.\n",
    "    mca_df = pd.DataFrame(mca)\n",
    "    mca_df = mca_df.rename(columns={0: 'pc_1', 1: 'pc_2'})\n",
    "    mca_df['node_name'] = mca_df.index\n",
    "    mca_df['node_type'] = mca_df['node_name'].apply(lambda x: 'Ancestor' if \\\n",
    "                                                x in node_type_dict['Ancestor'] else 'Extant')\n",
    "    return mca_df\n",
    "\n",
    "''' create co-ordinates for arrows '''\n",
    "def create_pts_arrow_coordinates(nwk_file_path,mca_df):\n",
    "    tree_file = open(nwk_file_path,\"r\")\n",
    "    my_tree = tree_file.read() + \";\"\n",
    "    tree = Tree(my_tree, format=1)\n",
    "    arrow_cord = []\n",
    "    name_pnts = []\n",
    "    \n",
    "    for n in tree.traverse():\n",
    "        node  = n.name\n",
    "        x = mca_df[mca_df['node_name'] == node]['pc_1'].values[0]\n",
    "        y = mca_df[mca_df['node_name'] == node]['pc_2'].values[0]\n",
    "        name_pnts.append((x+0.02,y,node))\n",
    "        \n",
    "        if n.is_leaf() == False:    \n",
    "            for c in n.children:\n",
    "                child = c.name\n",
    "                # get co-ordinates\n",
    "                dx = mca_df[mca_df['node_name'] == child]['pc_1'].values[0] - \\\n",
    "                            mca_df[mca_df['node_name'] == node]['pc_1'].values[0]\n",
    "                dy = mca_df[mca_df['node_name'] == child]['pc_2'].values[0] - \\\n",
    "                            mca_df[mca_df['node_name'] == node]['pc_2'].values[0]\n",
    "                arrow_cord.append((x,y,dx,dy,node))               \n",
    "    return arrow_cord,name_pnts\n",
    "\n",
    "\n",
    "''' plot the data in 2d space'''\n",
    "def plot_fig(mca_df,show_nodes,show_arrow,show_names):\n",
    "    if show_nodes == 'All':\n",
    "        sns.lmplot(x='pc_1', y='pc_2', data=mca_df, hue='node_type', \\\n",
    "                    fit_reg=False) #, x_jitter=0.2, y_jitter=0.2)\n",
    "    else:\n",
    "        mca_df_filtered = mca_df[mca_df['node_type'] == show_nodes]\n",
    "        sns.lmplot(x='pc_1', y='pc_2', data=mca_df_filtered, \\\n",
    "                   fit_reg=False)"
   ]
  },
  {
   "cell_type": "code",
   "execution_count": 17,
   "id": "e5202e2c",
   "metadata": {},
   "outputs": [
    {
     "data": {
      "image/png": "[encoded data removed]",
      "text/plain": [
       "<Figure size 360x360 with 1 Axes>"
      ]
     },
     "metadata": {
      "needs_background": "light"
     },
     "output_type": "display_data"
    }
   ],
   "source": [
    "# GRASP OUTPUT\n",
    "\n",
    "nwk_file_path       = '/Users/sanjanatule/Documents/uq/Projects/PreferredPath/data/CYP2U_595/grasp_ancestors.nwk'\n",
    "ancestor_fasta_file = \"/Users/sanjanatule/Documents/uq/Projects/PreferredPath/data/CYP2U_595/grasp_ancestors.fa\"\n",
    "pogs_file           = '/Users/sanjanatule/Documents/uq/Projects/PreferredPath/data/CYP2U_595/pogs.json'\n",
    "node_type_dict = process_node_type(pogs_file)\n",
    "data = process_sequences(ancestor_fasta_file)\n",
    "mca_df = run_mca(data,node_type_dict)\n",
    "#arrow_cord,name_pnts = create_pts_arrow_coordinates(nwk_file_path,mca_df)\n",
    "plot_fig(mca_df,show_nodes='Ancestor',show_arrow=0,show_names=1) # Ancestor #All #Extant"
   ]
  },
  {
   "cell_type": "code",
   "execution_count": 16,
   "id": "ea183da7",
   "metadata": {},
   "outputs": [
    {
     "data": {
      "image/png": "[encoded data removed]",
      "text/plain": [
       "<Figure size 360x360 with 1 Axes>"
      ]
     },
     "metadata": {
      "needs_background": "light"
     },
     "output_type": "display_data"
    }
   ],
   "source": [
    "# MIP OUTPUT - MIP 1\n",
    "\n",
    "nwk_file_path       = '/Users/sanjanatule/Documents/uq/Projects/PreferredPath/data/CYP2U_595/grasp_ancestors.nwk'\n",
    "ancestor_fasta_file = \"/Users/sanjanatule/Documents/uq/Projects/PreferredPath/data/CYP2U_595/mip_grasp_ancestors.fa\"\n",
    "pogs_file           = '/Users/sanjanatule/Documents/uq/Projects/PreferredPath/data/CYP2U_595/pogs.json'\n",
    "node_type_dict = process_node_type(pogs_file)\n",
    "data = process_sequences(ancestor_fasta_file)\n",
    "mca_df = run_mca(data,node_type_dict)\n",
    "#arrow_cord,name_pnts = create_pts_arrow_coordinates(nwk_file_path,mca_df)\n",
    "plot_fig(mca_df,show_nodes='Ancestor',show_arrow=0,show_names=1) # Ancestor #All #Extant"
   ]
  },
  {
   "cell_type": "code",
   "execution_count": 18,
   "id": "c8f44fba",
   "metadata": {},
   "outputs": [
    {
     "data": {
      "image/png": "[encoded data removed]",
      "text/plain": [
       "<Figure size 360x360 with 1 Axes>"
      ]
     },
     "metadata": {
      "needs_background": "light"
     },
     "output_type": "display_data"
    }
   ],
   "source": [
    "# MIP OUTPUT - EXTANTS EDGES ONLY (MIP 2)\n",
    "\n",
    "nwk_file_path       = '/Users/sanjanatule/Documents/uq/Projects/PreferredPath/data/CYP2U_595/grasp_ancestors.nwk'\n",
    "ancestor_fasta_file = \"/Users/sanjanatule/Documents/uq/Projects/PreferredPath/data/CYP2U_595/mip_grasp_ancestors_extant_edges.fa\"\n",
    "pogs_file           = '/Users/sanjanatule/Documents/uq/Projects/PreferredPath/data/CYP2U_595/pogs.json'\n",
    "node_type_dict = process_node_type(pogs_file)\n",
    "data = process_sequences(ancestor_fasta_file)\n",
    "mca_df = run_mca(data,node_type_dict)\n",
    "#arrow_cord,name_pnts = create_pts_arrow_coordinates(nwk_file_path,mca_df)\n",
    "plot_fig(mca_df,show_nodes='Ancestor',show_arrow=0,show_names=1) # Ancestor #All #Extant"
   ]
  },
  {
   "cell_type": "markdown",
   "id": "23d08121",
   "metadata": {},
   "source": [
    "## EXTRA CODE"
   ]
  },
  {
   "cell_type": "code",
   "execution_count": 6,
   "id": "427e0a4e",
   "metadata": {},
   "outputs": [],
   "source": [
    "#plot_fig(mca_df,arrow_cord,name_pnts,show_nodes='Extant',show_arrow=0,show_names=1) # Ancestor #All #Extant"
   ]
  },
  {
   "cell_type": "code",
   "execution_count": 7,
   "id": "f2d01a0c",
   "metadata": {},
   "outputs": [],
   "source": [
    "#plot_fig(mca_df,arrow_cord,name_pnts,show_nodes='Ancestor',show_arrow=0,show_names=1) # Ancestor #All #Extant"
   ]
  },
  {
   "cell_type": "code",
   "execution_count": 8,
   "id": "ac03503a",
   "metadata": {},
   "outputs": [],
   "source": [
    "# ''' plot the data in 2d space'''\n",
    "# def plot_fig(mca_df,arrow_cord,name_pnts,show_nodes,show_arrow,show_names):\n",
    "    \n",
    "    #fig = plt.figure(figsize=(20, 10))\n",
    "    #ax  = fig.add_subplot(2, 1, 2)\n",
    "#     color = {'Ancestor':'blue','Extant':'orange'}\n",
    "    \n",
    "#     plt.xlim(mca_df['pc_1'].min(), mca_df['pc_1'].max())\n",
    "#     plt.ylim(mca_df['pc_2'].min(), mca_df['pc_2'].max())\n",
    "\n",
    "#     if show_nodes == 'All':\n",
    "#         sns.lmplot(x='pc_1', y='pc_2', data=mca_df, hue='node_type', fit_reg=False, x_jitter=0.1, y_jitter=0.1)\n",
    "        \n",
    "#         groups = mca_df.groupby('node_type')\n",
    "#         for name, group in groups:\n",
    "#             plt.plot(group.pc_1, group.pc_2, marker='o', linestyle='', markersize=5, label=name,c=color[name])\n",
    "            \n",
    "        # plot arrows\n",
    "#         if show_arrow == 1:\n",
    "#             for a in arrow_cord:\n",
    "#                 ax.arrow(a[0], a[1], a[2], a[3],width=0.000001,color='grey',\\\n",
    "#                       length_includes_head=True,head_width=0.009)\n",
    "            \n",
    "        # plot text\n",
    "#         if show_names == 1:\n",
    "#             for n in name_pnts:\n",
    "#                 ax.text(n[0], n[1], n[2], fontsize=12) \n",
    "#         plt.legend()\n",
    "        \n",
    "#     else:\n",
    "#         mca_df_filtered = mca_df[mca_df['node_type'] == show_nodes]\n",
    "#         sns.lmplot(x='pc_1', y='pc_2', data=mca_df_filtered, palette=color[show_nodes], \\\n",
    "#                    fit_reg=False, x_jitter=0.1, y_jitter=0.1)\n",
    "        \n",
    "#         mca_df_filtered = mca_df[mca_df['node_type'] == show_nodes]\n",
    "#         plt.plot(mca_df_filtered.pc_1, mca_df_filtered.pc_2, marker='o', linestyle='', markersize=5,\\\n",
    "#                      c=color[show_nodes])\n",
    "        \n",
    "#         # plot arrows\n",
    "#         if show_arrow == 1:\n",
    "#             for a in arrow_cord:\n",
    "\n",
    "#                 if a[4] in node_type_dict[show]:\n",
    "#                     ax.arrow(a[0], a[1], a[2], a[3],width=0.000001,color='grey',\\\n",
    "#                           length_includes_head=True,head_width=0.009)\n",
    "        \n",
    "#         # plot text\n",
    "#         if show_names == 1:\n",
    "#             for n in name_pnts:\n",
    "#                 if n[2] in node_type_dict[show]:\n",
    "#                     ax.text(n[0], n[1], n[2], fontsize=12) \n",
    "#         plt.legend([show_nodes])"
   ]
  }
 ],
 "metadata": {
  "kernelspec": {
   "display_name": "Python 3 (ipykernel)",
   "language": "python",
   "name": "python3"
  },
  "language_info": {
   "codemirror_mode": {
    "name": "ipython",
    "version": 3
   },
   "file_extension": ".py",
   "mimetype": "text/x-python",
   "name": "python",
   "nbconvert_exporter": "python",
   "pygments_lexer": "ipython3",
   "version": "3.9.7"
  }
 },
 "nbformat": 4,
 "nbformat_minor": 5
}
