{
 "cells": [
  {
   "cell_type": "markdown",
   "id": "8e961007",
   "metadata": {},
   "source": [
    "### Evaluate MIP 2 solution ::\n",
    "1. GAPS between extant and the top ancestor node.\n",
    "2. Number of I1,I2,I3 mutations count.\n",
    "3. Number of Unidirectional / Bidirectional edges in the solution.\n",
    "\n",
    "\n",
    "Input files needed:\n",
    "1. GRASP Tree\n",
    "2. GRASP Ancestors (includes extants)\n",
    "3. MIP Ancestors\n",
    "4. pogs JSON\n",
    "\n",
    "Created by: Sanjana Tule\n",
    "\n",
    "Date: 14 Sep 2022"
   ]
  },
  {
   "cell_type": "code",
   "execution_count": 8,
   "id": "fc924e46",
   "metadata": {},
   "outputs": [],
   "source": [
    "import re\n",
    "import json\n",
    "from pysam import FastaFile,FastxFile\n",
    "from ete3 import Tree\n",
    "from operator import add"
   ]
  },
  {
   "cell_type": "markdown",
   "id": "60ebbaec",
   "metadata": {},
   "source": [
    "## DEFINE FUNCTIONS"
   ]
  },
  {
   "cell_type": "markdown",
   "id": "74da81ff",
   "metadata": {},
   "source": [
    "### COUNT GAPS"
   ]
  },
  {
   "cell_type": "code",
   "execution_count": 9,
   "id": "24c4f3c2",
   "metadata": {},
   "outputs": [],
   "source": [
    "''' EVALUATION 1'''\n",
    "''' THIS BLOCK COUNTS THE GAP BETWEEN EXTANTS AND MIP 2 ANCESTOR NODE '''\n",
    "\n",
    "def get_extants_names(pogs_json_file):\n",
    "    # read the json file\n",
    "    extant_list = []\n",
    "    with open(pogs_json_file, 'r') as j:\n",
    "        pog_all_data = json.loads(j.read())\n",
    "\n",
    "        # read all ancestors\n",
    "        for node_type in ['Extants']:\n",
    "            for pog_data in pog_all_data[node_type]:\n",
    "\n",
    "                extant_list.append(pog_data['Name'])\n",
    "    return extant_list\n",
    "\n",
    "def count_gaps(seq_str,output_method):\n",
    "    if output_method == 'grasp':\n",
    "        str1 =  re.sub('[a-zA-Z]', 'a', seq_str)\n",
    "    if output_method == 'mip2':\n",
    "        str1 =  re.sub('0', '-', seq_str)\n",
    "    return str1.count('-')\n",
    "\n",
    "def counts_gaps(grasp_ancestor_fasta,mip2_fasta,pogs_json):\n",
    "    \n",
    "    extant_gap_cnt_list = []\n",
    "    \n",
    "    # get the extants list from pogs json\n",
    "    extant_list = get_extants_names(pogs_json)\n",
    "    \n",
    "    # read fasta file and get the extant sequences\n",
    "    with FastxFile(grasp_ancestor_fasta) as fh:\n",
    "        for entry in fh:\n",
    "            if entry.name in extant_list:\n",
    "                extant_gap_cnt_list.append(count_gaps(entry.sequence,'grasp'))\n",
    "    fh.close()\n",
    "    \n",
    "    # get the average\n",
    "    avg_extant_gap = int(sum(extant_gap_cnt_list) / len(extant_gap_cnt_list))\n",
    "    \n",
    "    # get gap from MIP2\n",
    "    sequences_info = FastaFile(mip2_fasta)\n",
    "    mip_top_ancestor_gap = count_gaps(sequences_info.fetch('N0'),'mip2')\n",
    "    \n",
    "    # get gap from GRASP\n",
    "    sequences_info = FastaFile(grasp_ancestor_fasta)\n",
    "    grasp_top_ancestor_gap = count_gaps(sequences_info.fetch('N0'),'grasp')\n",
    "    \n",
    "    return avg_extant_gap,mip_top_ancestor_gap,grasp_top_ancestor_gap"
   ]
  },
  {
   "cell_type": "markdown",
   "id": "0bb7bb4f",
   "metadata": {},
   "source": [
    "### MUTATION COUNTS"
   ]
  },
  {
   "cell_type": "code",
   "execution_count": 10,
   "id": "eb19ab28",
   "metadata": {},
   "outputs": [
    {
     "name": "stdout",
     "output_type": "stream",
     "text": [
      "NO MUTATIONS\n",
      "No mutations [0, 0, 0, 0, 0, 0]\n",
      "ONE FLIP\n",
      "I1A [1, 1, 0, 0, 0, 0]\n",
      "I1A [1, 1, 0, 0, 0, 0]\n",
      "HALF KIDS CHANGE\n",
      "I1B [1, 0, 1, 0, 0, 0]\n",
      "I1B [1, 0, 1, 0, 0, 0]\n",
      "I1B [1, 0, 1, 0, 0, 0]\n",
      "I1B [1, 0, 1, 0, 0, 0]\n",
      "CHAOS\n",
      "I2A [1, 0, 0, 1, 0, 0]\n",
      "I2A [1, 0, 0, 1, 0, 0]\n",
      "I2A [1, 0, 0, 1, 0, 0]\n",
      "I2A [1, 0, 0, 1, 0, 0]\n",
      "KIDS CHANGE\n",
      "I2B [1, 0, 0, 0, 1, 0]\n",
      "I2B [1, 0, 0, 0, 1, 0]\n",
      "TOTAL FLIP\n",
      "I3 [1, 0, 0, 0, 0, 1]\n",
      "I3 [1, 0, 0, 0, 0, 1]\n"
     ]
    }
   ],
   "source": [
    "def count_mutation(p,n,c1,c2):\n",
    "    \n",
    "    # convert amino acids into 1\n",
    "    p =  re.sub('[a-zA-Z]', '1', p)\n",
    "    n =  re.sub('[a-zA-Z]', '1', n)\n",
    "    c1 =  re.sub('[a-zA-Z]', '1', c1)\n",
    "    c2 =  re.sub('[a-zA-Z]', '1', c2)\n",
    "        \n",
    "#     print(\"parent\",p)\n",
    "#     print(\"current node\",n)\n",
    "#     print(\"child 1\",c1)\n",
    "#     print(\"child 2\",c2)\n",
    "    \n",
    "    tn,i1a,i1b,i2a,i2b,i3 = 0,0,0,0,0,0\n",
    "    \n",
    "    for i in range(0,len(n)):\n",
    "        if n[i] == p[i]: #(node and parent are equal)\n",
    "            if c1[i] == c2[i] and c1[i] != n[i]:\n",
    "                i2b = i2b + 1\n",
    "            if c1[i] != c2[i]:\n",
    "                i1b = i1b + 1\n",
    "        elif n[i] != p[i]: #(node not equal to parent)\n",
    "            if c1[i] != c2[i]:\n",
    "                i2a = i2a + 1\n",
    "            if c1[i] == c2[i] and c1[i] == n[i]:\n",
    "                i1a = i1a + 1\n",
    "            if c1[i] == c2[i] and c1[i] != n[i]:\n",
    "                i3 = i3 + 1\n",
    "        #print([tn,i1a,i1b,i2a,i2b,i3])\n",
    "    \n",
    "    if i1a == 0 and i1b == 0 and i2a == 0 and i2b == 0 and i3 == 0:\n",
    "        tn = 0\n",
    "    else:\n",
    "        tn = 1 \n",
    "    #print(\"mutation\",[tn,i1a,i1b,i2a,i2b,i3])\n",
    "    return [tn,i1a,i1b,i2a,i2b,i3]\n",
    "\n",
    "print(\"NO MUTATIONS\")\n",
    "print(\"No mutations\",count_mutation('1','1','1','1'))\n",
    "\n",
    "## ONE FLIP\n",
    "print(\"ONE FLIP\")\n",
    "print(\"I1A\",count_mutation('1','0','0','0'))\n",
    "print(\"I1A\",count_mutation('0','1','1','1'))\n",
    "\n",
    "## HALF KIDS CHANGE\n",
    "print('HALF KIDS CHANGE')\n",
    "print(\"I1B\",count_mutation('0','0','1','0'))\n",
    "print(\"I1B\",count_mutation('0','0','0','1'))\n",
    "print(\"I1B\",count_mutation('1','1','1','0'))\n",
    "print(\"I1B\",count_mutation('1','1','0','1'))\n",
    "\n",
    "## CHAOS\n",
    "print('CHAOS')\n",
    "print(\"I2A\",count_mutation('1','0','1','0'))\n",
    "print(\"I2A\",count_mutation('1','0','0','1'))\n",
    "print(\"I2A\",count_mutation('0','1','1','0'))\n",
    "print(\"I2A\",count_mutation('0','1','0','1'))\n",
    "\n",
    "### KIDS CHANGE\n",
    "print(\"KIDS CHANGE\")\n",
    "print(\"I2B\",count_mutation('1','1','0','0'))\n",
    "print(\"I2B\",count_mutation('0','0','1','1'))\n",
    "\n",
    "### total flip ###\n",
    "print(\"TOTAL FLIP\")\n",
    "print(\"I3\",count_mutation('1','0','1','1'))\n",
    "print(\"I3\",count_mutation('0','1','0','0'))"
   ]
  },
  {
   "cell_type": "code",
   "execution_count": 11,
   "id": "c5ad9394",
   "metadata": {},
   "outputs": [
    {
     "data": {
      "text/plain": [
       "'aaa'"
      ]
     },
     "execution_count": 11,
     "metadata": {},
     "output_type": "execute_result"
    }
   ],
   "source": [
    "a ='baaav'\n",
    "a[1:-1]"
   ]
  },
  {
   "cell_type": "code",
   "execution_count": 12,
   "id": "7a9d1cfc",
   "metadata": {},
   "outputs": [],
   "source": [
    "''' EVALUATION 2  - THIS BLOCK COUNTS DIFFERENT KINDS OF MUTATIONS AT A BRANCH POINT '''\n",
    "\n",
    "def count_different_mutations(ancestor_fasta,grasp_nwk_file,method):\n",
    "    \n",
    "    total_mut = [0,0,0,0,0,0] #nodes,i1a,i1b,i2a,i2b,i3\n",
    "    \n",
    "    # load the tree\n",
    "    tree_file = open(nwk_file_path,\"r\")\n",
    "    my_tree = tree_file.read() + \";\"\n",
    "    tree = Tree(my_tree, format=1)\n",
    "    \n",
    "    # traverse tree\n",
    "    sequences_info = FastaFile(ancestor_fasta)\n",
    "    \n",
    "    for n in tree.traverse():\n",
    "        if n.is_leaf() == False:  \n",
    "            #print(\"NODE NAME\",n.name)\n",
    "            current_node = n.name\n",
    "            current_node_sequence = sequences_info.fetch(current_node)\n",
    "            child_seq_1 = sequences_info.fetch(n.children[0].name)\n",
    "            child_seq_2 = sequences_info.fetch(n.children[1].name)\n",
    "            \n",
    "            if n.is_root() == False: # if root then parent sequence same as the root\n",
    "                parent_node  = n.up.name\n",
    "                parent_node_sequence = sequences_info.fetch(parent_node)\n",
    "            else:\n",
    "                parent_node_sequence = current_node_sequence\n",
    "            \n",
    "        # remove starting and ending for mip2\n",
    "        if method == 'mip2':\n",
    "            current_node_sequence = current_node_sequence[1:-1]\n",
    "            child_seq_1 = child_seq_1[1:-1]\n",
    "            child_seq_2 = child_seq_2[1:-1]\n",
    "            parent_node_sequence = parent_node_sequence[1:-1]\n",
    "            \n",
    "        mut_ret  = count_mutation(parent_node_sequence,current_node_sequence,child_seq_1,child_seq_2)\n",
    "        \n",
    "        total_mut =  list( map(add, total_mut, mut_ret) )\n",
    "    \n",
    "       \n",
    "    return total_mut"
   ]
  },
  {
   "cell_type": "markdown",
   "id": "708a5f6a",
   "metadata": {},
   "source": [
    "## RUN EVALUATION"
   ]
  },
  {
   "cell_type": "code",
   "execution_count": 13,
   "id": "4faf4862",
   "metadata": {},
   "outputs": [],
   "source": [
    "## CYP2U - 165\n",
    "# nwk_file_path       = '/Users/sanjanatule/Documents/uq/Projects/PreferredPath/data/CYP2U_165/grasp_ancestors.nwk'\n",
    "# grasp_ancestor_fasta = \"/Users/sanjanatule/Documents/uq/Projects/PreferredPath/data/CYP2U_165/grasp_ancestors.fa\"\n",
    "# pogs_file           = '/Users/sanjanatule/Documents/uq/Projects/PreferredPath/data/CYP2U_165/pogs.json'\n",
    "# mip2_fasta = \"/Users/sanjanatule/Documents/uq/Projects/PreferredPath/data/CYP2U_165/mip2_ancestors.fa\"\n",
    "# tree_name = 'cyp2u_165'\n",
    "\n",
    "# # ## CYP2U - 359\n",
    "# nwk_file_path       = '/Users/sanjanatule/Documents/uq/Projects/PreferredPath/data/CYP2U_359/grasp_ancestors.nwk'\n",
    "# grasp_ancestor_fasta = \"/Users/sanjanatule/Documents/uq/Projects/PreferredPath/data/CYP2U_359/grasp_ancestors.fa\"\n",
    "# pogs_file           = '/Users/sanjanatule/Documents/uq/Projects/PreferredPath/data/CYP2U_359/pogs.json'\n",
    "# mip2_fasta = \"/Users/sanjanatule/Documents/uq/Projects/PreferredPath/data/CYP2U_359/\\\n",
    "#                                                 mip2_ancestors.fa\"\n",
    "# tree_name = 'cyp2u_359'\n",
    "\n",
    "\n",
    "# ## CYP2U - 595\n",
    "# nwk_file_path       = '/Users/sanjanatule/Documents/uq/Projects/PreferredPath/data/CYP2U_595/grasp_ancestors.nwk'\n",
    "# grasp_ancestor_fasta = \"/Users/sanjanatule/Documents/uq/Projects/PreferredPath/data/CYP2U_595/grasp_ancestors.fa\"\n",
    "# pogs_file           = '/Users/sanjanatule/Documents/uq/Projects/PreferredPath/data/CYP2U_595/pogs.json'\n",
    "# mip2_fasta = \"/Users/sanjanatule/Documents/uq/Projects/PreferredPath/data/CYP2U_595/\\\n",
    "# mip2_ancestors.fa\"\n",
    "# tree_name = 'cyp2u_595'\n",
    "\n",
    "# ## DHAD - 585\n",
    "# nwk_file_path       = '/Users/sanjanatule/Documents/uq/Projects/PreferredPath/data/DHAD_585/grasp_ancestors.nwk'\n",
    "# grasp_ancestor_fasta = \"/Users/sanjanatule/Documents/uq/Projects/PreferredPath/data/DHAD_585/grasp_ancestors.fa\"\n",
    "# pogs_file           = '/Users/sanjanatule/Documents/uq/Projects/PreferredPath/data/DHAD_585/pogs.json'\n",
    "# mip2_fasta = \"/Users/sanjanatule/Documents/uq/Projects/PreferredPath/data/DHAD_585/\\\n",
    "# mip2_ancestors.fa\"\n",
    "# tree_name = 'dhad_585'\n",
    "\n",
    "# ## KARI - 1176\n",
    "# nwk_file_path       = '/Users/sanjanatule/Documents/uq/Projects/PreferredPath/data/KARI_1176/grasp_ancestors.nwk'\n",
    "# grasp_ancestor_fasta = \"/Users/sanjanatule/Documents/uq/Projects/PreferredPath/data/KARI_1176/grasp_ancestors.fa\"\n",
    "# pogs_file           = '/Users/sanjanatule/Documents/uq/Projects/PreferredPath/data/KARI_1176/pogs.json'\n",
    "# mip2_fasta = \"/Users/sanjanatule/Documents/uq/Projects/PreferredPath/data/KARI_1176/\\\n",
    "# mip2_ancestors.fa\"\n",
    "# tree_name = 'kari_1176' \n",
    "\n",
    "\n",
    "# ## GO - 399\n",
    "# nwk_file_path       = '/Users/sanjanatule/Documents/uq/Projects/PreferredPath/data/GDH-GOx_399/grasp_ancestors.nwk'\n",
    "# grasp_ancestor_fasta = \"/Users/sanjanatule/Documents/uq/Projects/PreferredPath/data/GDH-GOx_399/grasp_ancestors.fa\"\n",
    "# pogs_file           = '/Users/sanjanatule/Documents/uq/Projects/PreferredPath/data/GDH-GOx_399/pogs.json'\n",
    "# mip2_fasta = \"/Users/sanjanatule/Documents/uq/Projects/PreferredPath/data/GDH-GOx_399/mip2_ancestors.fa\"\n",
    "# tree_name = 'go_399' \n",
    "\n",
    "\n",
    "## DHAD - 1612\n",
    "# nwk_file_path       = '/Users/sanjanatule/Documents/uq/Projects/PreferredPath/data/DHAD_1612/grasp_ancestors.nwk'\n",
    "# grasp_ancestor_fasta = \"/Users/sanjanatule/Documents/uq/Projects/PreferredPath/data/DHAD_1612/grasp_ancestors.fa\"\n",
    "# pogs_file           = '/Users/sanjanatule/Documents/uq/Projects/PreferredPath/data/DHAD_1612/pogs.json'\n",
    "# mip2_fasta = \"/Users/sanjanatule/Documents/uq/Projects/PreferredPath/data/DHAD_1612/\\\n",
    "# mip2_ancestors.fa\"\n",
    "# tree_name = 'dhad_1612' \n",
    "\n",
    "## sample tree 1\n",
    "nwk_file_path = '/Users/sanjanatule/Documents/uq/Projects/MIPIndel/data/st1/grasp_ancestors.nwk'\n",
    "grasp_ancestor_fasta = \"/Users/sanjanatule/Documents/uq/Projects/MIPIndel/data/st1/grasp_ancestors.fa\"\n",
    "pogs_file           = '/Users/sanjanatule/Documents/uq/Projects/MIPIndel/data/st1/pogs.json'\n",
    "mip2_fasta = \"/Users/sanjanatule/Documents/uq/Projects/MIPIndel/data/st1/mip2_ancestors.fa\"\n",
    "tree_name = 'sample_tree'\n",
    "\n",
    "## sample tree 5\n",
    "# nwk_file_path = '/Users/sanjanatule/Documents/uq/Projects/PreferredPath/data/st5/grasp_ancestors.nwk'\n",
    "# grasp_ancestor_fasta = \"/Users/sanjanatule/Documents/uq/Projects/PreferredPath/data/st5/grasp_ancestors.fa\"\n",
    "# pogs_file           = '/Users/sanjanatule/Documents/uq/Projects/PreferredPath/data/st5/pogs.json'\n",
    "# mip2_fasta = \"/Users/sanjanatule/Documents/uq/Projects/PreferredPath/data/st5/mip2_ancestors.fa\"\n",
    "# tree_name = 'sample_tree5'\n",
    "\n",
    "\n",
    "## sample tree 3\n",
    "# nwk_file_path = '/Users/sanjanatule/Documents/uq/Projects/PreferredPath/data/st3/grasp_ancestors.nwk'\n",
    "# grasp_ancestor_fasta = \"/Users/sanjanatule/Documents/uq/Projects/PreferredPath/data/st3/grasp_ancestors.fa\"\n",
    "# pogs_file           = '/Users/sanjanatule/Documents/uq/Projects/PreferredPath/data/st3/pogs.json'\n",
    "# mip2_fasta = \"/Users/sanjanatule/Documents/uq/Projects/PreferredPath/data/st3/mip2_ancestors.fa\"\n",
    "# tree_name = 'sample_tree3'"
   ]
  },
  {
   "cell_type": "code",
   "execution_count": 14,
   "id": "8e49cecb",
   "metadata": {},
   "outputs": [
    {
     "name": "stdout",
     "output_type": "stream",
     "text": [
      "AVG. EXTANT GAP:: 3\n",
      "MIP2 NO GAP 4\n",
      "GRASP N0 GAP 4\n"
     ]
    }
   ],
   "source": [
    "extant_gap,mip2_ancestor_gap,grasp_top_ancestor_gap = counts_gaps(grasp_ancestor_fasta,mip2_fasta,pogs_file)\n",
    "print(\"AVG. EXTANT GAP::\",extant_gap)\n",
    "print(\"MIP2 NO GAP\",mip2_ancestor_gap)\n",
    "print(\"GRASP N0 GAP\",grasp_top_ancestor_gap)"
   ]
  },
  {
   "cell_type": "code",
   "execution_count": 15,
   "id": "0de536e9",
   "metadata": {},
   "outputs": [
    {
     "name": "stdout",
     "output_type": "stream",
     "text": [
      "****** GRASP METHOD *********\n",
      "[8, 6, 12, 0, 0, 0]\n"
     ]
    }
   ],
   "source": [
    "###### tn - total nodes with mutations\n",
    "#i1a - 1 FLIP  from parent to current node\n",
    "#i1b - 1 FLIP HALF KID CHANGE from current node to 1 child\n",
    "#i2a - 2 FLIPS CHAOS , flip from parent to current node and current node to 1 child\n",
    "#i2b - 2 FLIPS ALL KIDS CHANGE, change from parent to current node and current node to 2 childs\n",
    "#i3  - 3 FLIPS COMPLETE FLIP\n",
    "\n",
    "\n",
    "print(\"****** GRASP METHOD *********\")  #i1a,i1b,i2a,i2b,i3\n",
    "print(count_different_mutations(grasp_ancestor_fasta,nwk_file_path,'grasp'))\n",
    "\n",
    "# print(\"****** MIP2 *********\")\n",
    "# print(count_different_mutations(mip2_fasta,nwk_file_path,'mip2'))\n",
    "\n"
   ]
  },
  {
   "cell_type": "code",
   "execution_count": 16,
   "id": "a75de973",
   "metadata": {},
   "outputs": [
    {
     "name": "stdout",
     "output_type": "stream",
     "text": [
      "****** MIP2 *********\n",
      "[8, 6, 11, 0, 0, 0]\n"
     ]
    }
   ],
   "source": [
    "print(\"****** MIP2 *********\")\n",
    "print(count_different_mutations(mip2_fasta,nwk_file_path,'mip2'))"
   ]
  }
 ],
 "metadata": {
  "kernelspec": {
   "display_name": "Python 3 (ipykernel)",
   "language": "python",
   "name": "python3"
  },
  "language_info": {
   "codemirror_mode": {
    "name": "ipython",
    "version": 3
   },
   "file_extension": ".py",
   "mimetype": "text/x-python",
   "name": "python",
   "nbconvert_exporter": "python",
   "pygments_lexer": "ipython3",
   "version": "3.9.7"
  }
 },
 "nbformat": 4,
 "nbformat_minor": 5
}
