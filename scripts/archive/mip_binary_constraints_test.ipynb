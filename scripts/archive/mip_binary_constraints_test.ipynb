{
 "cells": [
  {
   "cell_type": "code",
   "execution_count": 74,
   "id": "0d02b5ac",
   "metadata": {},
   "outputs": [],
   "source": [
    "''' Run MIP for indel inference '''\n",
    "\n",
    "# libraries\n",
    "import gurobipy as gp\n",
    "from gurobipy import abs_,quicksum\n",
    "from gurobipy import GRB\n",
    "import time\n",
    "import json\n",
    "from collections import defaultdict\n",
    "import numpy as np\n",
    "import torch\n",
    "from torch.utils.data import Dataset\n",
    "import pickle"
   ]
  },
  {
   "cell_type": "code",
   "execution_count": 85,
   "id": "52b652e2",
   "metadata": {},
   "outputs": [
    {
     "name": "stdout",
     "output_type": "stream",
     "text": [
      "Gurobi Optimizer version 9.5.2 build v9.5.2rc0 (mac64[rosetta2])\n",
      "Thread count: 10 physical cores, 10 logical processors, using up to 10 threads\n",
      "Optimize a model with 33 rows, 16 columns and 34 nonzeros\n",
      "Model fingerprint: 0x378a187a\n",
      "Model has 14 general constraints\n",
      "Variable types: 0 continuous, 16 integer (16 binary)\n",
      "Coefficient statistics:\n",
      "  Matrix range     [1e+00, 1e+00]\n",
      "  Objective range  [0e+00, 0e+00]\n",
      "  Bounds range     [1e+00, 1e+00]\n",
      "  RHS range        [1e+00, 2e+00]\n",
      "  GenCon rhs range [1e+00, 1e+00]\n",
      "  GenCon coe range [1e+00, 1e+00]\n",
      "Presolve removed 33 rows and 16 columns\n",
      "Presolve time: 0.00s\n",
      "Presolve: All rows and columns removed\n",
      "\n",
      "Explored 0 nodes (0 simplex iterations) in 0.01 seconds (0.00 work units)\n",
      "Thread count was 1 (of 10 available processors)\n",
      "\n",
      "Solution count 1: 0 \n",
      "\n",
      "Optimal solution found (tolerance 1.00e-04)\n",
      "Best objective 0.000000000000e+00, best bound 0.000000000000e+00, gap 0.0000%\n",
      "Warning: variables 0 and 8 have the same name \"abs_diff[0]\"\n",
      "Warning: to let Gurobi read it back, use rlp format\n",
      "diff_all [1.0, 0.0, 1.0, 1.0, 1.0, 0.0, 0.0, 1.0]\n",
      "pen_all [1.0, 0.0, 1.0, 0.0, 0.0, 0.0, 0.0, 1.0]\n"
     ]
    }
   ],
   "source": [
    "m = gp.Model(\"test\")\n",
    "\n",
    "a = '10010101'\n",
    "b = '00101100'\n",
    "len_a = len(a)\n",
    "\n",
    "#temp_diff   = m.addVars(len_a,vtype=GRB.INTEGER,lb=-1,ub=1,name=\"diff\")\n",
    "diff      = m.addVars(len_a,vtype=GRB.BINARY,name=\"abs_diff\")\n",
    "pen =  m.addVars(len_a,vtype=GRB.BINARY,name=\"abs_diff\")\n",
    "\n",
    "diff_dict = {}\n",
    "for i in range(0,len_a):\n",
    "    \n",
    "    m.addConstr( diff[i] <= int(a[i]) + int(b[i]) )\n",
    "    m.addConstr( diff[i] >= int(a[i]) - int(b[i]) )\n",
    "    m.addConstr( diff[i] >= int(b[i]) - int(a[i]) ) \n",
    "    m.addConstr( diff[i] <= 2 - int(b[i]) - int(a[i]) )\n",
    "                \n",
    "    if i == 0: # penalty for first position is simple\n",
    "        m.addConstr(pen[i] == diff[i])\n",
    "    else:\n",
    "        m.addConstr((pen[i]==0)>>(diff[i] - diff[i-1] <= 0.0))\n",
    "        m.addConstr((pen[i]==1)>>(diff[i] - diff[i-1] >= 1.0))\n",
    "    \n",
    "    \n",
    "m.update()\n",
    "m.optimize()\n",
    "m.write('test.lp')\n",
    "diff_all = []\n",
    "pen_all = []\n",
    "for i in range(0,len_a):\n",
    "    diff_all.append(diff[i].X)\n",
    "    pen_all.append(pen[i].X)\n",
    "print(\"diff_all\",diff_all)\n",
    "print(\"pen_all\",pen_all)"
   ]
  },
  {
   "cell_type": "code",
   "execution_count": null,
   "id": "a0455ca5",
   "metadata": {},
   "outputs": [],
   "source": []
  }
 ],
 "metadata": {
  "kernelspec": {
   "display_name": "Python 3 (ipykernel)",
   "language": "python",
   "name": "python3"
  },
  "language_info": {
   "codemirror_mode": {
    "name": "ipython",
    "version": 3
   },
   "file_extension": ".py",
   "mimetype": "text/x-python",
   "name": "python",
   "nbconvert_exporter": "python",
   "pygments_lexer": "ipython3",
   "version": "3.9.7"
  }
 },
 "nbformat": 4,
 "nbformat_minor": 5
}
