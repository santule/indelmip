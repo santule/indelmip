{
 "cells": [
  {
   "cell_type": "code",
   "execution_count": 17,
   "id": "e4e96298",
   "metadata": {},
   "outputs": [],
   "source": [
    "from ete3 import Tree\n",
    "from pysam import FastaFile,FastxFile\n",
    "from operator import add"
   ]
  },
  {
   "cell_type": "markdown",
   "id": "b2de125d",
   "metadata": {},
   "source": [
    "1 - TREE SCORE"
   ]
  },
  {
   "cell_type": "code",
   "execution_count": 10,
   "id": "28006fe0",
   "metadata": {},
   "outputs": [],
   "source": [
    "''' Function to calculate parsimony score for the whole tree for a given indel solution'''\n",
    "def sequence_distance_score(str1,str2):\n",
    "    dis = 0\n",
    "    prev_dis = 0\n",
    "    \n",
    "    for i in range(0,len(str1)):\n",
    "        if str1[i] != str2[i]:  # not matching\n",
    "            if prev_dis == 0:   # previous matches\n",
    "                dis += 3\n",
    "                prev_dis = 1\n",
    "            else:\n",
    "                dis += 1\n",
    "        else:\n",
    "            prev_dis = 0\n",
    "    return dis\n",
    "    \n",
    "def score_tree_indels(treefile,indelfastafile):\n",
    "    parsiscore = 0\n",
    "    \n",
    "    # load the fasta file\n",
    "    indel_pattern = FastaFile(indelfastafile)\n",
    "    # load the tree\n",
    "    tree_file = open(treefile,\"r\")\n",
    "    my_tree = tree_file.read() + \";\"\n",
    "    tree = Tree(my_tree, format=1)\n",
    "    \n",
    "    # load pattern on the tree\n",
    "    for n in tree.traverse():\n",
    "        if n.is_leaf() == False:  \n",
    "            current_node = n.name\n",
    "            current_node_sequence = indel_pattern.fetch(current_node)\n",
    "            child_seq_1 = indel_pattern.fetch(n.children[0].name)\n",
    "            child_seq_2 = indel_pattern.fetch(n.children[1].name)\n",
    "    \n",
    "            # calculate score\n",
    "            parsiscore += sequence_distance_score(current_node_sequence,child_seq_1)\n",
    "            parsiscore += sequence_distance_score(current_node_sequence,child_seq_2)\n",
    "    \n",
    "    return parsiscore"
   ]
  },
  {
   "cell_type": "code",
   "execution_count": 11,
   "id": "5d07085d",
   "metadata": {},
   "outputs": [
    {
     "data": {
      "text/plain": [
       "3146"
      ]
     },
     "execution_count": 11,
     "metadata": {},
     "output_type": "execute_result"
    }
   ],
   "source": [
    "# test this\n",
    "input_folder = '/Users/sanjanatule/Documents/uq/Projects/MIPIndel/data/'\n",
    "protein_family = 'CYP2U_165'\n",
    "input_indel_fasta_file = input_folder + protein_family + '/mip_ancestor_indel.fasta'\n",
    "input_tree_file = input_folder + protein_family + '/CYP2U_165_ancestors.nwk'\n",
    "\n",
    "score_tree_indels(input_tree_file,input_indel_fasta_file)"
   ]
  },
  {
   "cell_type": "markdown",
   "id": "27ab0c00",
   "metadata": {},
   "source": [
    "2 - INDEL EVENTS"
   ]
  },
  {
   "cell_type": "code",
   "execution_count": 38,
   "id": "ad9fe2ac",
   "metadata": {},
   "outputs": [],
   "source": [
    "''' function to calculate the total indel events at each node of the tree'''\n",
    "def count_mutations(p,n,c1,c2):\n",
    "    tn,i1a,i1b,i2a,i2b,i3 = 0,0,0,0,0,0\n",
    "    \n",
    "    for i in range(0,len(n)):\n",
    "        #print(f\"p[i]-{p[i]}:n[i]-{n[i]}:c1[i]-{c1[i]}:c2[i]-{c2[i]}\")\n",
    "        if n[i] == p[i] == c1[i] == c2[i]:\n",
    "            continue\n",
    "        elif n[i] == p[i]: #(node and parent position are equal)\n",
    "            if c1[i] == c2[i] and c1[i] != n[i]:\n",
    "                i2b += 1\n",
    "            if c1[i] != c2[i]: # kids are not equal\n",
    "                i1b += 1\n",
    "        elif n[i] != p[i]: #(node not equal to parent)\n",
    "            if c1[i] != c2[i]:\n",
    "                i2a += 1\n",
    "            if c1[i] == c2[i] and c1[i] == n[i]:\n",
    "                i1a += 1\n",
    "            if c1[i] == c2[i] and c1[i] != n[i]:\n",
    "                i3 += 1\n",
    "        #print(i1a,i1b,i2a,i2b,i3)\n",
    "    if i1a + i1b + i2a + i2b + i3 == 0: # no mutations\n",
    "        tn = 0\n",
    "    else:\n",
    "        tn = 1 \n",
    "    return [tn,i1a,i1b,i2a,i2b,i3]\n",
    "\n",
    "def count_indel_events(treefile,indelfastafile):\n",
    "    total_mut = [0,0,0,0,0,0] #event flag,i1a,i1b,i2a,i2b,i3\n",
    "    \n",
    "    # load the tree\n",
    "    tree_file = open(treefile,\"r\")\n",
    "    my_tree = tree_file.read() + \";\"\n",
    "    tree = Tree(my_tree, format=1)\n",
    "    \n",
    "    # traverse tree\n",
    "    indel_pattern = FastaFile(indelfastafile)\n",
    "    \n",
    "    for n in tree.traverse():\n",
    "        if n.is_leaf() == False:  \n",
    "            current_node = n.name\n",
    "            current_node_sequence = indel_pattern.fetch(current_node)\n",
    "            child_seq_1 = indel_pattern.fetch(n.children[0].name)\n",
    "            child_seq_2 = indel_pattern.fetch(n.children[1].name)\n",
    "            \n",
    "            if n.is_root() == False: # if root then parent sequence same as the root\n",
    "                parent_node  = n.up.name\n",
    "                parent_node_sequence = indel_pattern.fetch(parent_node)\n",
    "            else:\n",
    "                parent_node_sequence = current_node_sequence\n",
    "        #print(\"parent_node_sequence\",parent_node_sequence)\n",
    "        #print(\"current_node_sequence\",current_node_sequence)\n",
    "        #print(\"child_seq_1\",child_seq_1)\n",
    "        #print(\"child_seq_2\",child_seq_2)\n",
    "        mut_ret   = count_mutations(parent_node_sequence,current_node_sequence,child_seq_1,child_seq_2)\n",
    "        #print(\"mut_ret\",mut_ret)\n",
    "        total_mut =  list(map(add, total_mut, mut_ret))\n",
    "    return total_mut"
   ]
  },
  {
   "cell_type": "code",
   "execution_count": 39,
   "id": "c27e7c1d",
   "metadata": {},
   "outputs": [
    {
     "data": {
      "text/plain": [
       "[200, 902, 3921, 13, 11, 0]"
      ]
     },
     "execution_count": 39,
     "metadata": {},
     "output_type": "execute_result"
    }
   ],
   "source": [
    "count_indel_events(input_tree_file,input_indel_fasta_file)"
   ]
  },
  {
   "cell_type": "code",
   "execution_count": null,
   "id": "90e28089",
   "metadata": {},
   "outputs": [],
   "source": []
  }
 ],
 "metadata": {
  "kernelspec": {
   "display_name": "Python 3 (ipykernel)",
   "language": "python",
   "name": "python3"
  },
  "language_info": {
   "codemirror_mode": {
    "name": "ipython",
    "version": 3
   },
   "file_extension": ".py",
   "mimetype": "text/x-python",
   "name": "python",
   "nbconvert_exporter": "python",
   "pygments_lexer": "ipython3",
   "version": "3.9.7"
  }
 },
 "nbformat": 4,
 "nbformat_minor": 5
}
