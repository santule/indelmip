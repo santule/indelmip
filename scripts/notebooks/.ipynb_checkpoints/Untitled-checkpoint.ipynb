{
 "cells": [
  {
   "cell_type": "code",
   "execution_count": 1,
   "id": "fbaa9faa",
   "metadata": {},
   "outputs": [
    {
     "name": "stderr",
     "output_type": "stream",
     "text": [
      "/Users/sanjanatule/opt/anaconda3/lib/python3.9/site-packages/scipy/__init__.py:146: UserWarning: A NumPy version >=1.16.5 and <1.23.0 is required for this version of SciPy (detected version 1.24.2\n",
      "  warnings.warn(f\"A NumPy version >={np_minversion} and <{np_maxversion}\"\n"
     ]
    }
   ],
   "source": [
    "from pysam import FastaFile,FastxFile\n",
    "from ete3 import Tree\n",
    "import pandas as pd\n",
    "import numpy as np\n",
    "import matplotlib.pyplot as plt\n",
    "import seaborn as sns"
   ]
  },
  {
   "cell_type": "code",
   "execution_count": 2,
   "id": "eafa86aa",
   "metadata": {},
   "outputs": [],
   "source": [
    "# read the mip indel ancestor file\n",
    "folder_location         = '/Users/sanjanatule/Documents/uq/Projects/Indels/indelmip/data/'\n",
    "## Sample tree 1\n",
    "tree_name               = 'CASSOWARY'\n",
    "nwk_file_path           = folder_location + tree_name + '/cassowary_filtered_cdd_domain_length_0_ancestors.nwk'\n",
    "mip_indel_file          = folder_location + tree_name + '/mip_ancestor_indel.fasta'  # indels from MIP\n",
    "grasp_indel_file        = folder_location + tree_name + '/bep_grasp_all_indel.fasta' # indels from grasp"
   ]
  },
  {
   "cell_type": "code",
   "execution_count": 67,
   "id": "ca953a0e",
   "metadata": {},
   "outputs": [],
   "source": [
    "# Build a common alphabetical dictionary for indel patterns in both methods\n",
    "# get the indel data for each node for grasp and mip\n",
    "def convert_binary_to_no(bin_no):\n",
    "    return int(bin_no, 2)\n",
    "\n",
    "m_sequences_fasta_info = FastaFile(mip_indel_file)\n",
    "g_sequences_fasta_info = FastaFile(grasp_indel_file)\n",
    "\n",
    "mip_indel_nos   = []\n",
    "grasp_indel_nos = []\n",
    "for n in tree.traverse():\n",
    "    m_num = convert_binary_to_no(m_sequences_fasta_info.fetch(n.name)[1:-1])\n",
    "    g_num = convert_binary_to_no(g_sequences_fasta_info.fetch(n.name))\n",
    "    mip_indel_nos.append(m_num)\n",
    "    grasp_indel_nos.append(g_num)\n",
    "\n",
    "# convert the numbers into sequential order\n",
    "sorted_indel_nos  = sorted(list(set(grasp_indel_nos + mip_indel_nos)))\n",
    "sorted_indel_dict = dict(zip(sorted_indel_nos,range(len(sorted_indel_nos))))"
   ]
  },
  {
   "cell_type": "code",
   "execution_count": 101,
   "id": "16b4f828",
   "metadata": {},
   "outputs": [],
   "source": [
    "# get all ancestor and extant names\n",
    "ancestor_names = []\n",
    "extant_names = []\n",
    "for n in tree.traverse():\n",
    "    if not n.is_leaf():\n",
    "        ancestor_names.append(n.name)\n",
    "    else:\n",
    "        extant_names.append(n.name)"
   ]
  },
  {
   "cell_type": "code",
   "execution_count": 102,
   "id": "8b68e0e3",
   "metadata": {},
   "outputs": [],
   "source": [
    "# traverse tree from root to the extant , for all extant sequences\n",
    "tree_file = open(nwk_file_path,\"r\")\n",
    "my_tree = tree_file.read() + \";\"\n",
    "tree = Tree(my_tree, format=1)\n",
    "\n",
    "extant_root_pattern = {}\n",
    "for ex in extant_names:\n",
    "    extant_node_trace_to_root = []\n",
    "    # get all ancestor and extant names\n",
    "    for n in tree.traverse(\"postorder\"):\n",
    "        if n.name == ex:\n",
    "            extant_node_trace_to_root.append(n.name)\n",
    "            if n.name == 'N0':\n",
    "                break\n",
    "            ex = n.up.name\n",
    "    \n",
    "    #append to the main dictionary\n",
    "    extant_key = extant_node_trace_to_root[0]\n",
    "    extant_node_trace_to_root =  extant_node_trace_to_root[::-1] \n",
    "    extant_root_pattern[extant_key] = extant_node_trace_to_root"
   ]
  },
  {
   "cell_type": "code",
   "execution_count": 63,
   "id": "36b2fe93",
   "metadata": {},
   "outputs": [],
   "source": [
    "# convert list into dict no\n",
    "mip_indel_alphabet = []\n",
    "for i in mip_indel_nos:\n",
    "    mip_indel_alphabet.append(sorted_indel_dict[i])\n",
    "    \n",
    "grasp_indel_alphabet = []\n",
    "for i in grasp_indel_nos:\n",
    "    grasp_indel_alphabet.append(sorted_indel_dict[i])  "
   ]
  },
  {
   "cell_type": "code",
   "execution_count": 65,
   "id": "ecfd2e71",
   "metadata": {},
   "outputs": [
    {
     "data": {
      "text/plain": [
       "[12, 4, 4, 4, 8, 9, 10, 11, 13, 15]"
      ]
     },
     "execution_count": 65,
     "metadata": {},
     "output_type": "execute_result"
    }
   ],
   "source": [
    "# plot this using networkx\n",
    "mip_indel_alphabet"
   ]
  },
  {
   "cell_type": "code",
   "execution_count": 66,
   "id": "6bd44291",
   "metadata": {},
   "outputs": [
    {
     "data": {
      "text/plain": [
       "[0, 2, 2, 3, 5, 1, 7, 6, 14, 15]"
      ]
     },
     "execution_count": 66,
     "metadata": {},
     "output_type": "execute_result"
    }
   ],
   "source": [
    "grasp_indel_alphabet"
   ]
  },
  {
   "cell_type": "code",
   "execution_count": null,
   "id": "31d3193b",
   "metadata": {},
   "outputs": [],
   "source": [
    "import networkx as nx\n",
    "\n"
   ]
  }
 ],
 "metadata": {
  "kernelspec": {
   "display_name": "Python 3 (ipykernel)",
   "language": "python",
   "name": "python3"
  },
  "language_info": {
   "codemirror_mode": {
    "name": "ipython",
    "version": 3
   },
   "file_extension": ".py",
   "mimetype": "text/x-python",
   "name": "python",
   "nbconvert_exporter": "python",
   "pygments_lexer": "ipython3",
   "version": "3.9.7"
  }
 },
 "nbformat": 4,
 "nbformat_minor": 5
}
