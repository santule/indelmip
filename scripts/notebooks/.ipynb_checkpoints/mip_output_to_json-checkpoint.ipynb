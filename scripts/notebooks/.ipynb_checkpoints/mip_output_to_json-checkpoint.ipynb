{
 "cells": [
  {
   "cell_type": "markdown",
   "id": "ba145815",
   "metadata": {},
   "source": [
    "Python script to convert mip indel fasta file into ASR JSON"
   ]
  },
  {
   "cell_type": "code",
   "execution_count": 35,
   "id": "3b6b6832",
   "metadata": {},
   "outputs": [],
   "source": [
    "import json\n",
    "from pysam import FastaFile,FastxFile\n",
    "from ete3 import Tree"
   ]
  },
  {
   "cell_type": "code",
   "execution_count": 174,
   "id": "ba44dc3e",
   "metadata": {},
   "outputs": [],
   "source": [
    "def fasta_to_json(indel_fasta_solution_file,nwk_file,asr_json_file):\n",
    "    \n",
    "    # read the asr json file\n",
    "    f = open(folder_location + asr_json_file)\n",
    "    asr_json_data = json.load(f)\n",
    "    \n",
    "    # create edge repeat structure\n",
    "    edges_repeat = {\"Recip\": True,\"Backward\": True,\"Forward\": True,\"Weight\": 0}\n",
    "    \n",
    "    # read the indel inference from mip\n",
    "    ancestor_indel_info = {}\n",
    "    with FastxFile(folder_location + file_name) as fh:\n",
    "        for entry in fh:\n",
    "            ancestor_indel_info[entry.name] = entry.sequence\n",
    "\n",
    "    # read each ancestor and change it\n",
    "    for a in asr_json_data[\"Ancestors\"]:\n",
    "        # date change\n",
    "        #a[\"GRASP_version\"] = \"1900-01-01\"\n",
    "        a[\"Directed\"] = True\n",
    "        a[\"Terminated\"] = True\n",
    "        ancestor_name  = \"N\" + a[\"Name\"]\n",
    "        ancestor_indel = ancestor_indel_info[ancestor_name]\n",
    "\n",
    "        # read the mip indel and change the values\n",
    "        # change the Indices\n",
    "        indices = [e_idx - 1 for e_idx,e_val in enumerate(list(ancestor_indel)) if e_val == '1']\n",
    "        a[\"Indices\"] = indices[1:-1] # do not include first and last node as mip has start/end node\n",
    "        # changes the number of nodes to be same as the indices\n",
    "        a[\"Nodes\"] = [{} for i in range(len(a[\"Indices\"]))]\n",
    "\n",
    "        # change the Edgeindices and adjacent structure\n",
    "        last_node = a[\"Indices\"][-1]\n",
    "        all_edges = []\n",
    "        adjacent  = []\n",
    "        for i_dx,i_val in enumerate(indices[:-1]):\n",
    "            all_edges.append([i_val, indices[i_dx + 1]])\n",
    "            if i_val != -1: # starting node\n",
    "                if i_val != last_node: # last node\n",
    "                    adjacent.append([indices[i_dx + 1]])\n",
    "                else:\n",
    "                    adjacent.append([])\n",
    "\n",
    "        a[\"Edgeindices\"] = all_edges\n",
    "        a[\"Adjacent\"]    = adjacent\n",
    "\n",
    "        # edges for all edges in the edge indices\n",
    "        a[\"Edges\"] = [edges_repeat for i in range(len(a[\"Edgeindices\"]))]\n",
    "\n",
    "    # Dump the output in the file\n",
    "    with open(folder_location + 'ASR_MIP.json', 'w') as outfile:\n",
    "        json.dump(asr_json_data, outfile)   "
   ]
  },
  {
   "cell_type": "code",
   "execution_count": 130,
   "id": "4e8736fd",
   "metadata": {},
   "outputs": [],
   "source": [
    "file_name = 'mip_ancestor_indel.fasta'\n",
    "nwk_file = 'input_extants_ancestors.nwk'\n",
    "asr_json_file = 'ASR.json'\n",
    "folder_location = '/Users/sanjanatule/Documents/uq/Projects/Indels/indelmip/data/st1/'\n",
    "#main(folder_location + file_name,folder_location + nwk_file,folder_location + asr_json_file)"
   ]
  },
  {
   "cell_type": "code",
   "execution_count": null,
   "id": "c91bf822",
   "metadata": {},
   "outputs": [],
   "source": [
    "file_name = 'mip_ancestor_indel.fasta'\n",
    "nwk_file = 'input_extants_ancestors.nwk'\n",
    "asr_json_file = 'ASR.json'\n",
    "folder_location = '/Users/sanjanatule/Documents/uq/Projects/Indels/indelmip/data/st1/'"
   ]
  }
 ],
 "metadata": {
  "kernelspec": {
   "display_name": "Python 3 (ipykernel)",
   "language": "python",
   "name": "python3"
  },
  "language_info": {
   "codemirror_mode": {
    "name": "ipython",
    "version": 3
   },
   "file_extension": ".py",
   "mimetype": "text/x-python",
   "name": "python",
   "nbconvert_exporter": "python",
   "pygments_lexer": "ipython3",
   "version": "3.9.7"
  }
 },
 "nbformat": 4,
 "nbformat_minor": 5
}
