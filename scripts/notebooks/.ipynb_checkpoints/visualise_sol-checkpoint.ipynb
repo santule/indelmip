{
 "cells": [
  {
   "cell_type": "code",
   "execution_count": 2,
   "id": "b865c432",
   "metadata": {},
   "outputs": [],
   "source": [
    "from pysam import FastaFile,FastxFile\n",
    "from ete3 import Tree\n",
    "import pandas as pd\n",
    "import numpy as np\n",
    "import matplotlib.pyplot as plt\n",
    "import seaborn as sns"
   ]
  },
  {
   "cell_type": "code",
   "execution_count": 4,
   "id": "e4b39c54",
   "metadata": {},
   "outputs": [
    {
     "ename": "NameError",
     "evalue": "name 'mip_indel_file' is not defined",
     "output_type": "error",
     "traceback": [
      "\u001b[0;31m---------------------------------------------------------------------------\u001b[0m",
      "\u001b[0;31mNameError\u001b[0m                                 Traceback (most recent call last)",
      "\u001b[0;32m/var/folders/6g/6gy05kt92q5478c3_f84df280000gn/T/ipykernel_32296/1638325036.py\u001b[0m in \u001b[0;36m<module>\u001b[0;34m\u001b[0m\n\u001b[1;32m      4\u001b[0m     \u001b[0;32mreturn\u001b[0m \u001b[0mint\u001b[0m\u001b[0;34m(\u001b[0m\u001b[0mbin_no\u001b[0m\u001b[0;34m,\u001b[0m \u001b[0;36m2\u001b[0m\u001b[0;34m)\u001b[0m\u001b[0;34m\u001b[0m\u001b[0;34m\u001b[0m\u001b[0m\n\u001b[1;32m      5\u001b[0m \u001b[0;34m\u001b[0m\u001b[0m\n\u001b[0;32m----> 6\u001b[0;31m \u001b[0mm_sequences_fasta_info\u001b[0m \u001b[0;34m=\u001b[0m \u001b[0mFastaFile\u001b[0m\u001b[0;34m(\u001b[0m\u001b[0mmip_indel_file\u001b[0m\u001b[0;34m)\u001b[0m\u001b[0;34m\u001b[0m\u001b[0;34m\u001b[0m\u001b[0m\n\u001b[0m\u001b[1;32m      7\u001b[0m \u001b[0mg_sequences_fasta_info\u001b[0m \u001b[0;34m=\u001b[0m \u001b[0mFastaFile\u001b[0m\u001b[0;34m(\u001b[0m\u001b[0mgrasp_indel_file\u001b[0m\u001b[0;34m)\u001b[0m\u001b[0;34m\u001b[0m\u001b[0;34m\u001b[0m\u001b[0m\n\u001b[1;32m      8\u001b[0m \u001b[0;34m\u001b[0m\u001b[0m\n",
      "\u001b[0;31mNameError\u001b[0m: name 'mip_indel_file' is not defined"
     ]
    }
   ],
   "source": [
    "# Build a common alphabetical dictionary for indel patterns in both methods\n",
    "# get the indel data for each node for grasp and mip\n",
    "def convert_binary_to_no(bin_no):\n",
    "    return int(bin_no, 2)\n",
    "\n",
    "m_sequences_fasta_info = FastaFile(mip_indel_file)\n",
    "g_sequences_fasta_info = FastaFile(grasp_indel_file)\n",
    "\n",
    "mip_indel_nos   = []\n",
    "grasp_indel_nos = []\n",
    "for n in tree.traverse():\n",
    "    m_num = convert_binary_to_no(m_sequences_fasta_info.fetch(n.name)[1:-1])\n",
    "    g_num = convert_binary_to_no(g_sequences_fasta_info.fetch(n.name))\n",
    "    mip_indel_nos.append(m_num)\n",
    "    grasp_indel_nos.append(g_num)\n",
    "\n",
    "# convert the numbers into sequential order\n",
    "sorted_indel_nos  = sorted(list(set(grasp_indel_nos + mip_indel_nos)))\n",
    "sorted_indel_dict = dict(zip(sorted_indel_nos,range(len(sorted_indel_nos))))"
   ]
  },
  {
   "cell_type": "code",
   "execution_count": 3,
   "id": "4c8ba91d",
   "metadata": {},
   "outputs": [],
   "source": [
    "''' function to check the sequences and length '''\n",
    "def check_sequences_and_length(mip_indel_file,grasp_indel_file):\n",
    "    mip_sequences   = 0\n",
    "    grasp_sequences = 0\n",
    "    with FastxFile(mip_indel_file) as fh:\n",
    "        for entry in fh:\n",
    "            mip_sequences += 1\n",
    "            mip_length = len(entry.sequence)\n",
    "    with FastxFile(grasp_indel_file) as fh:\n",
    "        for entry in fh:\n",
    "            grasp_sequences += 1\n",
    "            grasp_length = len(entry.sequence)\n",
    "\n",
    "    assert grasp_sequences == mip_sequences, \"The number of sequences do not match\"\n",
    "    assert grasp_length == mip_length - 2, \"The sequence length do not match\"\n",
    "    return\n",
    "    \n",
    "''' function to get the sequence levels in the tree '''\n",
    "def get_sequence_level_in_tree(nwk_file_path):\n",
    "    tree_file = open(nwk_file_path,\"r\")\n",
    "    my_tree = tree_file.read() + \";\"\n",
    "    tree = Tree(my_tree, format=1)\n",
    "\n",
    "    sequence_tree_level = {}\n",
    "    ancestor_names = []\n",
    "    extant_names = []\n",
    "\n",
    "    # get all ancestor and extant names\n",
    "    for n in tree.traverse():\n",
    "        if not n.is_leaf():\n",
    "            ancestor_names.append(n.name)\n",
    "        else:\n",
    "            extant_names.append(n.name)\n",
    "\n",
    "    # traverse the tree and add levels.\n",
    "    level = 0                \n",
    "    for n in tree.traverse():\n",
    "        if n.up is not None: # root node\n",
    "            n.add_features(level = n.up.level + 1)\n",
    "            sequence_tree_level[n.name] = n.up.level + 1\n",
    "        else:\n",
    "            n.add_features(level = level)\n",
    "            sequence_tree_level[n.name] = level\n",
    "    return sequence_tree_level,extant_names,ancestor_names\n",
    "\n",
    "''' function to build common pattern vocab '''\n",
    "def create_pattern_data(indel_file,method_name,extant_names,nwk_file_path):\n",
    "    # get the indel patterns and give them unique number\n",
    "    sequence_pattern_dict  = {} # common dictionary of all indel patterns shared by  a solution\n",
    "    pattern_type = {} # pattern id - extant or ancestor\n",
    "    sequence_name_pattern_idx = {} # seq name - pattern id\n",
    "    extant_patterns = [] # get all extant pattern\n",
    "#     pattern = 1\n",
    "    sequences_fasta_info = FastaFile(indel_file)\n",
    "    tree_file = open(nwk_file_path,\"r\")\n",
    "    my_tree = tree_file.read() + \";\"\n",
    "    tree = Tree(my_tree, format=1)\n",
    "    \n",
    "    for n in tree.traverse():\n",
    "        seq_name = n.name\n",
    "        indel_sequence = sequences_fasta_info.fetch(n.name)\n",
    "        \n",
    "        if method_name == 'mip':\n",
    "            indel_sequence = indel_sequence[1:-1] # remove start and end node\n",
    "        \n",
    "        if seq_name in extant_names: \n",
    "            extant_patterns.append(indel_sequence)\n",
    "        else:\n",
    "            pattern_type[pattern] = 'A' \n",
    "            sequence_name_pattern_idx[seq_name]   = pattern\n",
    "            \n",
    "#             if sequence_pattern_dict.get(indel_sequence):\n",
    "#                 sequence_name_pattern_idx[seq_name]   = sequence_pattern_dict[indel_sequence]\n",
    "#             else:\n",
    "#                 sequence_pattern_dict[indel_sequence] = pattern\n",
    "#                 sequence_name_pattern_idx[seq_name]   = pattern\n",
    "#                 pattern_type[pattern] = 'A' # default allocation, to be changed later\n",
    "#                 pattern = pattern + 1         \n",
    "\n",
    "    #### Classify patterns into new / old ####\n",
    "    for k,v in sequence_pattern_dict.items():\n",
    "        if k in extant_patterns: # if the pattern is in extant pattern\n",
    "            pattern_type[v] = 'E'\n",
    "    return pattern_type,sequence_name_pattern_idx\n",
    "\n",
    "''' function to combine data in dataframe'''\n",
    "def combine_data_df(sequence_tree_level,sequence_name_pattern_idx,pattern_type):\n",
    "    \n",
    "    # wrangle data for visualisation\n",
    "    indel_visual_df1 = pd.DataFrame(sequence_tree_level.items(),columns = ['name','tree_level'])\n",
    "    indel_visual_df2 = pd.DataFrame(sequence_name_pattern_idx.items(),columns = ['name','pattern'])\n",
    "    indel_visual_df3 = pd.DataFrame(pattern_type.items(),columns = ['pattern','type'])\n",
    "    indel_visual_df  = pd.merge(indel_visual_df2, indel_visual_df1, how= \"inner\" , on=\"name\")\n",
    "    indel_visual_df  = pd.merge(indel_visual_df, indel_visual_df3,  how= \"inner\" , on=\"pattern\")\n",
    "    indel_visual_df  = indel_visual_df.drop(columns='name')\n",
    "    indel_visual_df['dummy_value'] = np.where(indel_visual_df['type'] =='E', 1,2)\n",
    "    indel_visual_df = indel_visual_df.drop(['type'],axis=1)\n",
    "    indel_visual_df  = indel_visual_df.drop_duplicates()\n",
    "    indel_visual_df  = indel_visual_df.pivot(index='pattern', columns= 'tree_level',values = 'dummy_value')\n",
    "    indel_visual_df  = indel_visual_df.fillna(0)\n",
    "    indel_visual_df  = indel_visual_df.astype(int)    \n",
    "    return indel_visual_df\n",
    "\n",
    "''' function to create heatmap'''\n",
    "def create_plot(indel_visual_df,output_file_name,):\n",
    "    # heatmap\n",
    "    plt.rcParams[\"figure.figsize\"] = [10,10] \n",
    "    colors = [\"#F5F3EE\", \"#738CB1\",\"#77C24D\"] # 1 - extant (blue) , 2 - ancestor(green)\n",
    "    sns_pp = sns.heatmap(indel_visual_df,cmap = colors,cbar=False)\n",
    "    sns_pp.set(xlabel='Tree Level' , ylabel='Indel Pattern')\n",
    "    \n",
    "    # save\n",
    "    plt.savefig(output_file_name)"
   ]
  },
  {
   "cell_type": "code",
   "execution_count": 3,
   "id": "6bb2985d",
   "metadata": {},
   "outputs": [],
   "source": [
    "def main(mip_indel_file,grasp_indel_file,nwk_file_path,file_loc):\n",
    "    # check\n",
    "    check_sequences_and_length(mip_indel_file,grasp_indel_file)\n",
    "    \n",
    "    # tree levels\n",
    "    sequence_tree_level,extant_names,ancestor_names = get_sequence_level_in_tree(nwk_file_path)\n",
    "    \n",
    "    # patterns\n",
    "    pattern_type_mip,sequence_name_pattern_idx_mip = \\\n",
    "    create_pattern_data(mip_indel_file,'mip',extant_names,nwk_file_path)\n",
    "    pattern_type_grasp,sequence_name_pattern_idx_grasp = \\\n",
    "    create_pattern_data(grasp_indel_file,'grasp',extant_names,nwk_file_path)\n",
    "    \n",
    "    # create df\n",
    "    visual_df_mip = combine_data_df(sequence_tree_level,sequence_name_pattern_idx_mip,pattern_type_mip)\n",
    "    visual_df_grp = combine_data_df(sequence_tree_level,sequence_name_pattern_idx_grasp,pattern_type_grasp)\n",
    "\n",
    "    # plots\n",
    "    print(\"pattern created by mip\")\n",
    "    create_plot(visual_df_mip,file_loc + '/mip_pattern.jpeg')\n",
    "    plt.figure()\n",
    "    print(\"pattern created by grasp bep\")\n",
    "    create_plot(visual_df_grp, file_loc + '/bep_grasp_pattern.jpeg')"
   ]
  },
  {
   "cell_type": "code",
   "execution_count": 6,
   "id": "bfcb30b4",
   "metadata": {},
   "outputs": [],
   "source": [
    "# read the mip indel ancestor file\n",
    "folder_location         = '/Users/sanjanatule/Documents/uq/Projects/Indels/indelmip/data/'\n",
    "## Sample tree 1\n",
    "tree_name               = 'CASSOWARY'\n",
    "nwk_file_path           = folder_location + tree_name + '/cassowary_filtered_cdd_domain_length_0_ancestors.nwk'\n",
    "mip_indel_file          = folder_location + tree_name + '/mip_ancestor_indel.fasta'  # indels from MIP\n",
    "grasp_indel_file        = folder_location + tree_name + '/bep_grasp_all_indel.fasta' # indels from grasp"
   ]
  },
  {
   "cell_type": "code",
   "execution_count": 7,
   "id": "8cc2ad70",
   "metadata": {},
   "outputs": [
    {
     "name": "stdout",
     "output_type": "stream",
     "text": [
      "pattern created by mip\n",
      "pattern created by grasp bep\n"
     ]
    },
    {
     "data": {
      "image/png": "[encoded data removed]",
      "text/plain": [
       "<Figure size 720x720 with 1 Axes>"
      ]
     },
     "metadata": {
      "needs_background": "light"
     },
     "output_type": "display_data"
    },
    {
     "data": {
      "image/png": "[encoded data removed]",
      "text/plain": [
       "<Figure size 720x720 with 1 Axes>"
      ]
     },
     "metadata": {
      "needs_background": "light"
     },
     "output_type": "display_data"
    }
   ],
   "source": [
    "main(mip_indel_file,grasp_indel_file,nwk_file_path,folder_location + tree_name)"
   ]
  },
  {
   "cell_type": "code",
   "execution_count": null,
   "id": "b6988a4e",
   "metadata": {},
   "outputs": [],
   "source": []
  }
 ],
 "metadata": {
  "kernelspec": {
   "display_name": "Python 3 (ipykernel)",
   "language": "python",
   "name": "python3"
  },
  "language_info": {
   "codemirror_mode": {
    "name": "ipython",
    "version": 3
   },
   "file_extension": ".py",
   "mimetype": "text/x-python",
   "name": "python",
   "nbconvert_exporter": "python",
   "pygments_lexer": "ipython3",
   "version": "3.9.7"
  }
 },
 "nbformat": 4,
 "nbformat_minor": 5
}
